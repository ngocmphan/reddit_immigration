{
 "cells": [
  {
   "cell_type": "markdown",
   "id": "9bf696dc-dd9a-47cc-bf8e-94d026719918",
   "metadata": {},
   "source": [
    "# Analysis of Reddit sub"
   ]
  },
  {
   "cell_type": "markdown",
   "id": "9eadeb05-3931-4c5f-aaf9-f94127905112",
   "metadata": {},
   "source": [
    "## Data preparation"
   ]
  },
  {
   "cell_type": "markdown",
   "id": "66a48d08-9e57-4e8d-9017-51761217e6d9",
   "metadata": {},
   "source": [
    "### Connect to Reddit"
   ]
  },
  {
   "cell_type": "code",
   "execution_count": 8,
   "id": "e4cf6e11",
   "metadata": {},
   "outputs": [],
   "source": [
    "import pandas as pd"
   ]
  },
  {
   "cell_type": "code",
   "execution_count": 1,
   "id": "9bd1ce6d-8ff8-4886-8a46-120c06028e50",
   "metadata": {},
   "outputs": [],
   "source": [
    "import praw\n",
    "\n",
    "with open('pass.txt', 'r') as file:\n",
    "    password = file.read()\n",
    "\n",
    "reddit = praw.Reddit(client_id = 'CFmuJgTqCFZds1GVjJcr_Q', \n",
    "                     client_secret = 'NHxFI6Bs6WCFiqdbQ_WfCfah_sfsRg',\n",
    "                     user_agent ='imm_praw_proj')\n",
    "\n"
   ]
  },
  {
   "cell_type": "markdown",
   "id": "9221ba40-515a-40ab-9451-ff7a4f91b9c5",
   "metadata": {},
   "source": [
    "### Connect to Subreddit"
   ]
  },
  {
   "cell_type": "code",
   "execution_count": 2,
   "id": "b8e11118-dab7-4249-b96d-226e0b1d1f68",
   "metadata": {},
   "outputs": [],
   "source": [
    "subreddit = reddit.subreddit('ImmigrationCanada')"
   ]
  },
  {
   "cell_type": "code",
   "execution_count": 3,
   "id": "9e00ad56-860c-4490-9681-507bad781711",
   "metadata": {},
   "outputs": [
    {
     "name": "stdout",
     "output_type": "stream",
     "text": [
      "<class 'praw.models.listing.generator.ListingGenerator'>\n"
     ]
    }
   ],
   "source": [
    "hot_sub = subreddit.hot(limit=100)\n",
    "print(type(hot_sub))"
   ]
  },
  {
   "cell_type": "code",
   "execution_count": 4,
   "id": "eb2765c1-6166-44a9-a493-700c23de5105",
   "metadata": {},
   "outputs": [
    {
     "name": "stdout",
     "output_type": "stream",
     "text": [
      "Megathreads - processing times/timelines\n",
      "27\n",
      "New Discord Server\n",
      "66\n",
      "Draw #241\n",
      "12\n"
     ]
    }
   ],
   "source": [
    "for submission in hot_sub:\n",
    "    print(submission.title)\n",
    "    print(submission.score)"
   ]
  },
  {
   "cell_type": "code",
   "execution_count": 10,
   "id": "e45ed5d3-f337-4941-993b-0b33ed5d4f01",
   "metadata": {},
   "outputs": [],
   "source": [
    "df = pd.DataFrame([ vars(post) for post in subreddit.hot(limit=100) ])"
   ]
  },
  {
   "cell_type": "code",
   "execution_count": 12,
   "id": "8ff910b2",
   "metadata": {},
   "outputs": [
    {
     "name": "stdout",
     "output_type": "stream",
     "text": [
      "   comment_limit comment_sort                                        _reddit  \\\n",
      "0           2048   confidence  <praw.reddit.Reddit object at 0x7f867bdf09b0>   \n",
      "1           2048   confidence  <praw.reddit.Reddit object at 0x7f867bdf09b0>   \n",
      "2           2048   confidence  <praw.reddit.Reddit object at 0x7f867bdf09b0>   \n",
      "3           2048   confidence  <praw.reddit.Reddit object at 0x7f867bdf09b0>   \n",
      "4           2048   confidence  <praw.reddit.Reddit object at 0x7f867bdf09b0>   \n",
      "\n",
      "  approved_at_utc          subreddit  \\\n",
      "0            None  ImmigrationCanada   \n",
      "1            None  ImmigrationCanada   \n",
      "2            None  ImmigrationCanada   \n",
      "3            None  ImmigrationCanada   \n",
      "4            None  ImmigrationCanada   \n",
      "\n",
      "                                            selftext author_fullname  saved  \\\n",
      "0  2023 megathreads to discuss application proces...        t2_y6zta  False   \n",
      "1  Hello everyone!\\n\\n&#x200B;\\n\\nTo help better ...        t2_ffgtk  False   \n",
      "2  Provincial Nominee Program only\\n\\nNumber of i...     t2_7f0gdy13  False   \n",
      "3  Hey everyone. Right now I am on TRV, waiting f...     t2_co7pix06  False   \n",
      "4  I am surprised to see an application being pro...     t2_ajsgt4pp  False   \n",
      "\n",
      "  mod_reason_title  gilded  ...  \\\n",
      "0             None       0  ...   \n",
      "1             None       0  ...   \n",
      "2             None       0  ...   \n",
      "3             None       0  ...   \n",
      "4             None       0  ...   \n",
      "\n",
      "                                                 url subreddit_subscribers  \\\n",
      "0  https://www.reddit.com/r/ImmigrationCanada/com...                 87990   \n",
      "1  https://www.reddit.com/r/ImmigrationCanada/com...                 87990   \n",
      "2  https://www.reddit.com/r/ImmigrationCanada/com...                 87990   \n",
      "3  https://www.reddit.com/r/ImmigrationCanada/com...                 87990   \n",
      "4  https://www.reddit.com/r/ImmigrationCanada/com...                 87990   \n",
      "\n",
      "    created_utc num_crossposts  media  is_video _fetched  _comments_by_id  \\\n",
      "0  1.672547e+09              0   None     False    False               {}   \n",
      "1  1.660008e+09              0   None     False    False               {}   \n",
      "2  1.676493e+09              0   None     False    False               {}   \n",
      "3  1.676512e+09              0   None     False    False               {}   \n",
      "4  1.676491e+09              0   None     False    False               {}   \n",
      "\n",
      "                 link_flair_template_id  author_cakeday  \n",
      "0                                   NaN             NaN  \n",
      "1  ee6217b0-4d73-11e8-a237-0ea72814b416             NaN  \n",
      "2  14bd281a-67e1-11e7-ae2a-0e8c56f9102e             NaN  \n",
      "3  0aa78e42-67e1-11e7-ae2a-0e8c56f9102e             NaN  \n",
      "4  32ffaea6-67e1-11e7-914b-0ebbc11eb180             NaN  \n",
      "\n",
      "[5 rows x 111 columns]\n"
     ]
    }
   ],
   "source": [
    "print(df.head(5))\n"
   ]
  },
  {
   "cell_type": "code",
   "execution_count": 15,
   "id": "22c7eb89",
   "metadata": {},
   "outputs": [
    {
     "name": "stdout",
     "output_type": "stream",
     "text": [
      "Index(['comment_limit', 'comment_sort', '_reddit', 'approved_at_utc',\n",
      "       'subreddit', 'selftext', 'author_fullname', 'saved', 'mod_reason_title',\n",
      "       'gilded',\n",
      "       ...\n",
      "       'url', 'subreddit_subscribers', 'created_utc', 'num_crossposts',\n",
      "       'media', 'is_video', '_fetched', '_comments_by_id',\n",
      "       'link_flair_template_id', 'author_cakeday'],\n",
      "      dtype='object', length=111)\n"
     ]
    }
   ],
   "source": [
    "print(df.columns)\n",
    "all_columns = list(df.columns)\n",
    "print"
   ]
  },
  {
   "cell_type": "code",
   "execution_count": 14,
   "id": "22f9a8f0",
   "metadata": {},
   "outputs": [
    {
     "name": "stdout",
     "output_type": "stream",
     "text": [
      "<bound method DataFrame.info of     comment_limit comment_sort                                        _reddit  \\\n",
      "0            2048   confidence  <praw.reddit.Reddit object at 0x7f867bdf09b0>   \n",
      "1            2048   confidence  <praw.reddit.Reddit object at 0x7f867bdf09b0>   \n",
      "2            2048   confidence  <praw.reddit.Reddit object at 0x7f867bdf09b0>   \n",
      "3            2048   confidence  <praw.reddit.Reddit object at 0x7f867bdf09b0>   \n",
      "4            2048   confidence  <praw.reddit.Reddit object at 0x7f867bdf09b0>   \n",
      "..            ...          ...                                            ...   \n",
      "95           2048   confidence  <praw.reddit.Reddit object at 0x7f867bdf09b0>   \n",
      "96           2048   confidence  <praw.reddit.Reddit object at 0x7f867bdf09b0>   \n",
      "97           2048   confidence  <praw.reddit.Reddit object at 0x7f867bdf09b0>   \n",
      "98           2048   confidence  <praw.reddit.Reddit object at 0x7f867bdf09b0>   \n",
      "99           2048   confidence  <praw.reddit.Reddit object at 0x7f867bdf09b0>   \n",
      "\n",
      "   approved_at_utc          subreddit  \\\n",
      "0             None  ImmigrationCanada   \n",
      "1             None  ImmigrationCanada   \n",
      "2             None  ImmigrationCanada   \n",
      "3             None  ImmigrationCanada   \n",
      "4             None  ImmigrationCanada   \n",
      "..             ...                ...   \n",
      "95            None  ImmigrationCanada   \n",
      "96            None  ImmigrationCanada   \n",
      "97            None  ImmigrationCanada   \n",
      "98            None  ImmigrationCanada   \n",
      "99            None  ImmigrationCanada   \n",
      "\n",
      "                                             selftext author_fullname  saved  \\\n",
      "0   2023 megathreads to discuss application proces...        t2_y6zta  False   \n",
      "1   Hello everyone!\\n\\n&#x200B;\\n\\nTo help better ...        t2_ffgtk  False   \n",
      "2   Provincial Nominee Program only\\n\\nNumber of i...     t2_7f0gdy13  False   \n",
      "3   Hey everyone. Right now I am on TRV, waiting f...     t2_co7pix06  False   \n",
      "4   I am surprised to see an application being pro...     t2_ajsgt4pp  False   \n",
      "..                                                ...             ...    ...   \n",
      "95  I sent my passport after receiving a request f...     t2_ff61zmwb  False   \n",
      "96  Hello, posting for a friend.\\n\\nGood day!\\nI'm...     t2_3echivoq  False   \n",
      "97  Hi, as the title suggests it's pretty straight...     t2_fhtzkr5r  False   \n",
      "98  Hello! I have a few questions about the PR pro...     t2_72dsxub6  False   \n",
      "99  I am have recently graduated from 2 year pg pr...     t2_qcztonnk  False   \n",
      "\n",
      "   mod_reason_title  gilded  ...  \\\n",
      "0              None       0  ...   \n",
      "1              None       0  ...   \n",
      "2              None       0  ...   \n",
      "3              None       0  ...   \n",
      "4              None       0  ...   \n",
      "..              ...     ...  ...   \n",
      "95             None       0  ...   \n",
      "96             None       0  ...   \n",
      "97             None       0  ...   \n",
      "98             None       0  ...   \n",
      "99             None       0  ...   \n",
      "\n",
      "                                                  url subreddit_subscribers  \\\n",
      "0   https://www.reddit.com/r/ImmigrationCanada/com...                 87990   \n",
      "1   https://www.reddit.com/r/ImmigrationCanada/com...                 87990   \n",
      "2   https://www.reddit.com/r/ImmigrationCanada/com...                 87990   \n",
      "3   https://www.reddit.com/r/ImmigrationCanada/com...                 87990   \n",
      "4   https://www.reddit.com/r/ImmigrationCanada/com...                 87990   \n",
      "..                                                ...                   ...   \n",
      "95  https://www.reddit.com/r/ImmigrationCanada/com...                 87990   \n",
      "96  https://www.reddit.com/r/ImmigrationCanada/com...                 87990   \n",
      "97  https://www.reddit.com/r/ImmigrationCanada/com...                 87990   \n",
      "98  https://www.reddit.com/r/ImmigrationCanada/com...                 87990   \n",
      "99  https://www.reddit.com/r/ImmigrationCanada/com...                 87990   \n",
      "\n",
      "     created_utc num_crossposts  media  is_video _fetched  _comments_by_id  \\\n",
      "0   1.672547e+09              0   None     False    False               {}   \n",
      "1   1.660008e+09              0   None     False    False               {}   \n",
      "2   1.676493e+09              0   None     False    False               {}   \n",
      "3   1.676512e+09              0   None     False    False               {}   \n",
      "4   1.676491e+09              0   None     False    False               {}   \n",
      "..           ...            ...    ...       ...      ...              ...   \n",
      "95  1.676320e+09              0   None     False    False               {}   \n",
      "96  1.676319e+09              0   None     False    False               {}   \n",
      "97  1.676317e+09              0   None     False    False               {}   \n",
      "98  1.676303e+09              0   None     False    False               {}   \n",
      "99  1.676316e+09              0   None     False    False               {}   \n",
      "\n",
      "                  link_flair_template_id  author_cakeday  \n",
      "0                                    NaN             NaN  \n",
      "1   ee6217b0-4d73-11e8-a237-0ea72814b416             NaN  \n",
      "2   14bd281a-67e1-11e7-ae2a-0e8c56f9102e             NaN  \n",
      "3   0aa78e42-67e1-11e7-ae2a-0e8c56f9102e             NaN  \n",
      "4   32ffaea6-67e1-11e7-914b-0ebbc11eb180             NaN  \n",
      "..                                   ...             ...  \n",
      "95  47752046-67e1-11e7-94aa-0ebbc11eb180             NaN  \n",
      "96  47752046-67e1-11e7-94aa-0ebbc11eb180             NaN  \n",
      "97  14bd281a-67e1-11e7-ae2a-0e8c56f9102e             NaN  \n",
      "98  0aa78e42-67e1-11e7-ae2a-0e8c56f9102e             NaN  \n",
      "99  14bd281a-67e1-11e7-ae2a-0e8c56f9102e             NaN  \n",
      "\n",
      "[100 rows x 111 columns]>\n"
     ]
    }
   ],
   "source": [
    "print(df.info)"
   ]
  },
  {
   "cell_type": "code",
   "execution_count": null,
   "id": "e24c921e",
   "metadata": {},
   "outputs": [],
   "source": []
  }
 ],
 "metadata": {
  "kernelspec": {
   "display_name": "Python 3 (ipykernel)",
   "language": "python",
   "name": "python3"
  },
  "language_info": {
   "codemirror_mode": {
    "name": "ipython",
    "version": 3
   },
   "file_extension": ".py",
   "mimetype": "text/x-python",
   "name": "python",
   "nbconvert_exporter": "python",
   "pygments_lexer": "ipython3",
   "version": "3.7.3"
  }
 },
 "nbformat": 4,
 "nbformat_minor": 5
}
