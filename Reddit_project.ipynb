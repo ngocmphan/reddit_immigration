{
 "cells": [
  {
   "cell_type": "markdown",
   "id": "9bf696dc-dd9a-47cc-bf8e-94d026719918",
   "metadata": {},
   "source": [
    "# Analysis of Reddit sub"
   ]
  },
  {
   "cell_type": "markdown",
   "id": "9eadeb05-3931-4c5f-aaf9-f94127905112",
   "metadata": {},
   "source": [
    "## Data preparation"
   ]
  },
  {
   "cell_type": "markdown",
   "id": "66a48d08-9e57-4e8d-9017-51761217e6d9",
   "metadata": {},
   "source": [
    "### Connect to Reddit"
   ]
  },
  {
   "cell_type": "code",
   "execution_count": 14,
   "id": "b8ca785d",
   "metadata": {},
   "outputs": [],
   "source": [
    "import pandas as pd\n",
    "import datetime as dt\n",
    "from datetime import datetime\n",
    "from pmaw import PushshiftAPI\n",
    "pd.options.mode.chained_assignment = None"
   ]
  },
  {
   "cell_type": "code",
   "execution_count": 3,
   "id": "9bd1ce6d-8ff8-4886-8a46-120c06028e50",
   "metadata": {},
   "outputs": [],
   "source": [
    "import praw\n",
    "\n",
    "\n",
    "reddit = praw.Reddit(client_id = 'CFmuJgTqCFZds1GVjJcr_Q', \n",
    "                     client_secret = 'NHxFI6Bs6WCFiqdbQ_WfCfah_sfsRg',\n",
    "                     user_agent ='imm_praw_proj')\n",
    "\n"
   ]
  },
  {
   "cell_type": "markdown",
   "id": "9221ba40-515a-40ab-9451-ff7a4f91b9c5",
   "metadata": {},
   "source": [
    "### Connect to Subreddit"
   ]
  },
  {
   "cell_type": "code",
   "execution_count": 4,
   "id": "b8e11118-dab7-4249-b96d-226e0b1d1f68",
   "metadata": {},
   "outputs": [],
   "source": [
    "subreddit = reddit.subreddit('ImmigrationCanada')"
   ]
  },
  {
   "cell_type": "markdown",
   "id": "166add63",
   "metadata": {},
   "source": [
    "### Data Extraction - Main post"
   ]
  },
  {
   "cell_type": "markdown",
   "id": "d4d8f2e4",
   "metadata": {},
   "source": [
    "#### Extraction - Top posts"
   ]
  },
  {
   "cell_type": "code",
   "execution_count": 5,
   "id": "e45ed5d3-f337-4941-993b-0b33ed5d4f01",
   "metadata": {},
   "outputs": [],
   "source": [
    "# Load data to dataframe\n",
    "df = pd.DataFrame([ vars(post) for post in subreddit.top(time_filter='all', limit=1000)])\n"
   ]
  },
  {
   "cell_type": "code",
   "execution_count": 6,
   "id": "f5e75b02",
   "metadata": {},
   "outputs": [],
   "source": [
    "# Create dataframe with relevant selected columns\n",
    "df_top_final = df[[\"selftext\", \"author_fullname\", \"title\", \"ups\", \"link_flair_text\", \"upvote_ratio\", \"media_embed\", \"created\", \"num_comments\", \"id\"]]"
   ]
  },
  {
   "cell_type": "code",
   "execution_count": 7,
   "id": "be6db819",
   "metadata": {},
   "outputs": [],
   "source": [
    "df_top_final['created'] = df_top_final['created'].map(datetime.utcfromtimestamp)"
   ]
  },
  {
   "cell_type": "code",
   "execution_count": 8,
   "id": "70ed9ff7",
   "metadata": {
    "scrolled": true
   },
   "outputs": [
    {
     "data": {
      "text/html": [
       "<div>\n",
       "<style scoped>\n",
       "    .dataframe tbody tr th:only-of-type {\n",
       "        vertical-align: middle;\n",
       "    }\n",
       "\n",
       "    .dataframe tbody tr th {\n",
       "        vertical-align: top;\n",
       "    }\n",
       "\n",
       "    .dataframe thead th {\n",
       "        text-align: right;\n",
       "    }\n",
       "</style>\n",
       "<table border=\"1\" class=\"dataframe\">\n",
       "  <thead>\n",
       "    <tr style=\"text-align: right;\">\n",
       "      <th></th>\n",
       "      <th>selftext</th>\n",
       "      <th>author_fullname</th>\n",
       "      <th>title</th>\n",
       "      <th>ups</th>\n",
       "      <th>link_flair_text</th>\n",
       "      <th>upvote_ratio</th>\n",
       "      <th>media_embed</th>\n",
       "      <th>created</th>\n",
       "      <th>num_comments</th>\n",
       "      <th>id</th>\n",
       "    </tr>\n",
       "  </thead>\n",
       "  <tbody>\n",
       "    <tr>\n",
       "      <th>0</th>\n",
       "      <td>Hi guys,\\n\\nI've been lurking around this sub ...</td>\n",
       "      <td>t2_14v9x4</td>\n",
       "      <td>Advice from a Canadian Immigration veteran - D...</td>\n",
       "      <td>453</td>\n",
       "      <td>Express Entry</td>\n",
       "      <td>0.97</td>\n",
       "      <td>{}</td>\n",
       "      <td>2020-09-27 16:06:02</td>\n",
       "      <td>67</td>\n",
       "      <td>j0tmbd</td>\n",
       "    </tr>\n",
       "    <tr>\n",
       "      <th>1</th>\n",
       "      <td></td>\n",
       "      <td>t2_2lap81b8</td>\n",
       "      <td>The wait is finally over! EE FSW-O Jan 2020 AOR</td>\n",
       "      <td>427</td>\n",
       "      <td>Express Entry</td>\n",
       "      <td>1.00</td>\n",
       "      <td>{}</td>\n",
       "      <td>2021-06-03 21:32:33</td>\n",
       "      <td>96</td>\n",
       "      <td>nrolek</td>\n",
       "    </tr>\n",
       "    <tr>\n",
       "      <th>2</th>\n",
       "      <td>Minutes ago I received an email notifying me t...</td>\n",
       "      <td>t2_y8cp6w6</td>\n",
       "      <td>I Just Became Permanent Resident</td>\n",
       "      <td>346</td>\n",
       "      <td>Other</td>\n",
       "      <td>0.96</td>\n",
       "      <td>{}</td>\n",
       "      <td>2021-02-17 20:09:12</td>\n",
       "      <td>52</td>\n",
       "      <td>lm3ecw</td>\n",
       "    </tr>\n",
       "    <tr>\n",
       "      <th>3</th>\n",
       "      <td></td>\n",
       "      <td>NaN</td>\n",
       "      <td>Something to rejoice :)</td>\n",
       "      <td>318</td>\n",
       "      <td>Express Entry</td>\n",
       "      <td>0.97</td>\n",
       "      <td>{}</td>\n",
       "      <td>2020-08-01 21:22:43</td>\n",
       "      <td>23</td>\n",
       "      <td>i203uw</td>\n",
       "    </tr>\n",
       "    <tr>\n",
       "      <th>4</th>\n",
       "      <td>Too hyped, can’t sleep. Yes, it took my family...</td>\n",
       "      <td>t2_5jcfoo25</td>\n",
       "      <td>FINALLY BECOMING A PERMANENT RESIDENT AFTER 13...</td>\n",
       "      <td>309</td>\n",
       "      <td>None</td>\n",
       "      <td>0.99</td>\n",
       "      <td>{}</td>\n",
       "      <td>2021-01-18 11:22:00</td>\n",
       "      <td>30</td>\n",
       "      <td>kzsuc5</td>\n",
       "    </tr>\n",
       "    <tr>\n",
       "      <th>...</th>\n",
       "      <td>...</td>\n",
       "      <td>...</td>\n",
       "      <td>...</td>\n",
       "      <td>...</td>\n",
       "      <td>...</td>\n",
       "      <td>...</td>\n",
       "      <td>...</td>\n",
       "      <td>...</td>\n",
       "      <td>...</td>\n",
       "      <td>...</td>\n",
       "    </tr>\n",
       "    <tr>\n",
       "      <th>994</th>\n",
       "      <td>Hi, my mother is planning to visit me in Canad...</td>\n",
       "      <td>t2_1wwuaatl</td>\n",
       "      <td>As a PR holder, what options does my mother ha...</td>\n",
       "      <td>17</td>\n",
       "      <td>Visitor Visa</td>\n",
       "      <td>1.00</td>\n",
       "      <td>{}</td>\n",
       "      <td>2021-12-25 06:57:16</td>\n",
       "      <td>9</td>\n",
       "      <td>ro4kiy</td>\n",
       "    </tr>\n",
       "    <tr>\n",
       "      <th>995</th>\n",
       "      <td>I know this is a simple question, I just want ...</td>\n",
       "      <td>t2_tss34g0</td>\n",
       "      <td>I'm filling out my Application for Citizenship...</td>\n",
       "      <td>16</td>\n",
       "      <td>Citizenship</td>\n",
       "      <td>0.91</td>\n",
       "      <td>{}</td>\n",
       "      <td>2021-10-25 15:58:22</td>\n",
       "      <td>2</td>\n",
       "      <td>qfjv4i</td>\n",
       "    </tr>\n",
       "    <tr>\n",
       "      <th>996</th>\n",
       "      <td>I applied for TRV a while back, and got my Or...</td>\n",
       "      <td>t2_h8r561h</td>\n",
       "      <td>Does Passport request mean VISA (TRV) is appro...</td>\n",
       "      <td>18</td>\n",
       "      <td>Visitor Visa</td>\n",
       "      <td>1.00</td>\n",
       "      <td>{}</td>\n",
       "      <td>2021-09-25 20:13:18</td>\n",
       "      <td>14</td>\n",
       "      <td>pvelrz</td>\n",
       "    </tr>\n",
       "    <tr>\n",
       "      <th>997</th>\n",
       "      <td>Will I be alright? Is there any way for me to ...</td>\n",
       "      <td>t2_3elvx7k8</td>\n",
       "      <td>I just got my student visa extension. I've bee...</td>\n",
       "      <td>17</td>\n",
       "      <td>Other</td>\n",
       "      <td>0.95</td>\n",
       "      <td>{}</td>\n",
       "      <td>2021-09-15 07:43:02</td>\n",
       "      <td>8</td>\n",
       "      <td>polk1w</td>\n",
       "    </tr>\n",
       "    <tr>\n",
       "      <th>998</th>\n",
       "      <td>https://preview.redd.it/quw4avq7gsc71.png?widt...</td>\n",
       "      <td>t2_831ma9k2</td>\n",
       "      <td>Analysis of IRCC PR application processing tim...</td>\n",
       "      <td>17</td>\n",
       "      <td>Express Entry</td>\n",
       "      <td>0.85</td>\n",
       "      <td>{}</td>\n",
       "      <td>2021-07-22 16:10:57</td>\n",
       "      <td>5</td>\n",
       "      <td>oph0v4</td>\n",
       "    </tr>\n",
       "  </tbody>\n",
       "</table>\n",
       "<p>999 rows × 10 columns</p>\n",
       "</div>"
      ],
      "text/plain": [
       "                                              selftext author_fullname  \\\n",
       "0    Hi guys,\\n\\nI've been lurking around this sub ...       t2_14v9x4   \n",
       "1                                                          t2_2lap81b8   \n",
       "2    Minutes ago I received an email notifying me t...      t2_y8cp6w6   \n",
       "3                                                                  NaN   \n",
       "4    Too hyped, can’t sleep. Yes, it took my family...     t2_5jcfoo25   \n",
       "..                                                 ...             ...   \n",
       "994  Hi, my mother is planning to visit me in Canad...     t2_1wwuaatl   \n",
       "995  I know this is a simple question, I just want ...      t2_tss34g0   \n",
       "996   I applied for TRV a while back, and got my Or...      t2_h8r561h   \n",
       "997  Will I be alright? Is there any way for me to ...     t2_3elvx7k8   \n",
       "998  https://preview.redd.it/quw4avq7gsc71.png?widt...     t2_831ma9k2   \n",
       "\n",
       "                                                 title  ups link_flair_text  \\\n",
       "0    Advice from a Canadian Immigration veteran - D...  453   Express Entry   \n",
       "1      The wait is finally over! EE FSW-O Jan 2020 AOR  427   Express Entry   \n",
       "2                     I Just Became Permanent Resident  346           Other   \n",
       "3                              Something to rejoice :)  318   Express Entry   \n",
       "4    FINALLY BECOMING A PERMANENT RESIDENT AFTER 13...  309            None   \n",
       "..                                                 ...  ...             ...   \n",
       "994  As a PR holder, what options does my mother ha...   17    Visitor Visa   \n",
       "995  I'm filling out my Application for Citizenship...   16     Citizenship   \n",
       "996  Does Passport request mean VISA (TRV) is appro...   18    Visitor Visa   \n",
       "997  I just got my student visa extension. I've bee...   17           Other   \n",
       "998  Analysis of IRCC PR application processing tim...   17   Express Entry   \n",
       "\n",
       "     upvote_ratio media_embed             created  num_comments      id  \n",
       "0            0.97          {} 2020-09-27 16:06:02            67  j0tmbd  \n",
       "1            1.00          {} 2021-06-03 21:32:33            96  nrolek  \n",
       "2            0.96          {} 2021-02-17 20:09:12            52  lm3ecw  \n",
       "3            0.97          {} 2020-08-01 21:22:43            23  i203uw  \n",
       "4            0.99          {} 2021-01-18 11:22:00            30  kzsuc5  \n",
       "..            ...         ...                 ...           ...     ...  \n",
       "994          1.00          {} 2021-12-25 06:57:16             9  ro4kiy  \n",
       "995          0.91          {} 2021-10-25 15:58:22             2  qfjv4i  \n",
       "996          1.00          {} 2021-09-25 20:13:18            14  pvelrz  \n",
       "997          0.95          {} 2021-09-15 07:43:02             8  polk1w  \n",
       "998          0.85          {} 2021-07-22 16:10:57             5  oph0v4  \n",
       "\n",
       "[999 rows x 10 columns]"
      ]
     },
     "execution_count": 8,
     "metadata": {},
     "output_type": "execute_result"
    }
   ],
   "source": [
    "df_top_final"
   ]
  },
  {
   "cell_type": "markdown",
   "id": "820119bd",
   "metadata": {},
   "source": [
    "#### Extraction - Posts by Year"
   ]
  },
  {
   "cell_type": "code",
   "execution_count": 19,
   "id": "6168d1db",
   "metadata": {},
   "outputs": [],
   "source": [
    "# Load data using Pushift API\n",
    "api = PushshiftAPI()"
   ]
  },
  {
   "cell_type": "code",
   "execution_count": null,
   "id": "3e9e1690",
   "metadata": {},
   "outputs": [],
   "source": [
    "start_epoch=int(dt.datetime(2022, 1, 1).timestamp())\n",
    "end_epoch = int(dt.datetime(2022,12,31).timestamp())\n",
    "gen_2022 = api.search_submissions(subreddit='ImmigrationCanada', before=end_epoch, after=start_epoch)"
   ]
  },
  {
   "cell_type": "code",
   "execution_count": 17,
   "id": "a20cb2e9",
   "metadata": {},
   "outputs": [],
   "source": [
    "posts_2022 = list(gen_2022)"
   ]
  },
  {
   "cell_type": "code",
   "execution_count": 18,
   "id": "78110519",
   "metadata": {},
   "outputs": [
    {
     "ename": "TypeError",
     "evalue": "Either 'fullnames', 'url', or 'subreddits' must be provided.",
     "output_type": "error",
     "traceback": [
      "\u001b[0;31m---------------------------------------------------------------------------\u001b[0m",
      "\u001b[0;31mTypeError\u001b[0m                                 Traceback (most recent call last)",
      "\u001b[0;32m/var/folders/18/l24_dv3127g47g4dbpj0b9240000gn/T/ipykernel_25681/1174391162.py\u001b[0m in \u001b[0;36m<module>\u001b[0;34m\u001b[0m\n\u001b[1;32m      1\u001b[0m \u001b[0;31m# Searching IDS obtained from Pushift with PRAW\u001b[0m\u001b[0;34m\u001b[0m\u001b[0;34m\u001b[0m\u001b[0;34m\u001b[0m\u001b[0m\n\u001b[0;32m----> 2\u001b[0;31m \u001b[0mdf_posts_22\u001b[0m \u001b[0;34m=\u001b[0m \u001b[0mreddit\u001b[0m\u001b[0;34m.\u001b[0m\u001b[0minfo\u001b[0m\u001b[0;34m(\u001b[0m\u001b[0mfullnames\u001b[0m\u001b[0;34m=\u001b[0m\u001b[0mposts_2022\u001b[0m\u001b[0;34m,\u001b[0m \u001b[0msubreddits\u001b[0m\u001b[0;34m=\u001b[0m\u001b[0;34m'ImmigrationCanada'\u001b[0m\u001b[0;34m)\u001b[0m\u001b[0;34m\u001b[0m\u001b[0;34m\u001b[0m\u001b[0m\n\u001b[0m",
      "\u001b[0;32m~/PycharmProjects/reddit_proj/venv/lib/python3.7/site-packages/praw/util/deprecate_args.py\u001b[0m in \u001b[0;36mwrapped\u001b[0;34m(*args, **kwargs)\u001b[0m\n\u001b[1;32m     41\u001b[0m                     \u001b[0mstacklevel\u001b[0m\u001b[0;34m=\u001b[0m\u001b[0;36m2\u001b[0m\u001b[0;34m,\u001b[0m\u001b[0;34m\u001b[0m\u001b[0;34m\u001b[0m\u001b[0m\n\u001b[1;32m     42\u001b[0m                 )\n\u001b[0;32m---> 43\u001b[0;31m             \u001b[0;32mreturn\u001b[0m \u001b[0mfunc\u001b[0m\u001b[0;34m(\u001b[0m\u001b[0;34m**\u001b[0m\u001b[0mdict\u001b[0m\u001b[0;34m(\u001b[0m\u001b[0mzip\u001b[0m\u001b[0;34m(\u001b[0m\u001b[0m_old_args\u001b[0m\u001b[0;34m,\u001b[0m \u001b[0margs\u001b[0m\u001b[0;34m)\u001b[0m\u001b[0;34m)\u001b[0m\u001b[0;34m,\u001b[0m \u001b[0;34m**\u001b[0m\u001b[0mkwargs\u001b[0m\u001b[0;34m)\u001b[0m\u001b[0;34m\u001b[0m\u001b[0;34m\u001b[0m\u001b[0m\n\u001b[0m\u001b[1;32m     44\u001b[0m \u001b[0;34m\u001b[0m\u001b[0m\n\u001b[1;32m     45\u001b[0m         \u001b[0;32mreturn\u001b[0m \u001b[0mwrapped\u001b[0m\u001b[0;34m\u001b[0m\u001b[0;34m\u001b[0m\u001b[0m\n",
      "\u001b[0;32m~/PycharmProjects/reddit_proj/venv/lib/python3.7/site-packages/praw/reddit.py\u001b[0m in \u001b[0;36minfo\u001b[0;34m(self, fullnames, subreddits, url)\u001b[0m\n\u001b[1;32m    675\u001b[0m         \u001b[0;32mif\u001b[0m \u001b[0mnone_count\u001b[0m \u001b[0;34m!=\u001b[0m \u001b[0;36m2\u001b[0m\u001b[0;34m:\u001b[0m\u001b[0;34m\u001b[0m\u001b[0;34m\u001b[0m\u001b[0m\n\u001b[1;32m    676\u001b[0m             raise TypeError(\n\u001b[0;32m--> 677\u001b[0;31m                 \u001b[0;34m\"Either 'fullnames', 'url', or 'subreddits' must be provided.\"\u001b[0m\u001b[0;34m\u001b[0m\u001b[0;34m\u001b[0m\u001b[0m\n\u001b[0m\u001b[1;32m    678\u001b[0m             )\n\u001b[1;32m    679\u001b[0m \u001b[0;34m\u001b[0m\u001b[0m\n",
      "\u001b[0;31mTypeError\u001b[0m: Either 'fullnames', 'url', or 'subreddits' must be provided."
     ]
    }
   ],
   "source": [
    "# Searching IDS obtained from Pushift with PRAW\n",
    "df_posts_22 = reddit.info(fullnames=posts_2022, subreddits='ImmigrationCanada')"
   ]
  },
  {
   "cell_type": "code",
   "execution_count": null,
   "id": "8a3d3937",
   "metadata": {},
   "outputs": [],
   "source": []
  },
  {
   "cell_type": "markdown",
   "id": "c7b47c3b",
   "metadata": {},
   "source": [
    "### Data Extraction - Comments"
   ]
  },
  {
   "cell_type": "code",
   "execution_count": null,
   "id": "91c9e603",
   "metadata": {},
   "outputs": [],
   "source": []
  },
  {
   "cell_type": "code",
   "execution_count": null,
   "id": "42f98fa1",
   "metadata": {},
   "outputs": [],
   "source": []
  },
  {
   "cell_type": "code",
   "execution_count": null,
   "id": "770b2f74",
   "metadata": {},
   "outputs": [],
   "source": []
  }
 ],
 "metadata": {
  "kernelspec": {
   "display_name": "Python 3 (ipykernel)",
   "language": "python",
   "name": "python3"
  },
  "language_info": {
   "codemirror_mode": {
    "name": "ipython",
    "version": 3
   },
   "file_extension": ".py",
   "mimetype": "text/x-python",
   "name": "python",
   "nbconvert_exporter": "python",
   "pygments_lexer": "ipython3",
   "version": "3.7.3"
  }
 },
 "nbformat": 4,
 "nbformat_minor": 5
}
