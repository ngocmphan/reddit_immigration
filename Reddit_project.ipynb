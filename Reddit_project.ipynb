{
 "cells": [
  {
   "cell_type": "markdown",
   "id": "9bf696dc-dd9a-47cc-bf8e-94d026719918",
   "metadata": {},
   "source": [
    "# Analysis of Reddit sub"
   ]
  },
  {
   "cell_type": "markdown",
   "id": "9eadeb05-3931-4c5f-aaf9-f94127905112",
   "metadata": {},
   "source": [
    "## Data preparation"
   ]
  },
  {
   "cell_type": "markdown",
   "id": "66a48d08-9e57-4e8d-9017-51761217e6d9",
   "metadata": {},
   "source": [
    "### Connect to Reddit"
   ]
  },
  {
   "cell_type": "code",
   "execution_count": 4,
   "id": "b8ca785d",
   "metadata": {},
   "outputs": [],
   "source": [
    "import pandas as pd\n",
    "from datetime import datetime\n",
    "from psaw import PushshiftAPI\n",
    "pd.options.mode.chained_assignment = None"
   ]
  },
  {
   "cell_type": "code",
   "execution_count": 7,
   "id": "9bd1ce6d-8ff8-4886-8a46-120c06028e50",
   "metadata": {},
   "outputs": [],
   "source": [
    "import praw\n",
    "\n",
    "\n",
    "reddit = praw.Reddit(client_id = 'CFmuJgTqCFZds1GVjJcr_Q', \n",
    "                     client_secret = 'NHxFI6Bs6WCFiqdbQ_WfCfah_sfsRg',\n",
    "                     user_agent ='imm_praw_proj')\n",
    "\n"
   ]
  },
  {
   "cell_type": "markdown",
   "id": "9221ba40-515a-40ab-9451-ff7a4f91b9c5",
   "metadata": {},
   "source": [
    "### Connect to Subreddit"
   ]
  },
  {
   "cell_type": "code",
   "execution_count": 8,
   "id": "b8e11118-dab7-4249-b96d-226e0b1d1f68",
   "metadata": {},
   "outputs": [],
   "source": [
    "subreddit = reddit.subreddit('ImmigrationCanada')"
   ]
  },
  {
   "cell_type": "markdown",
   "id": "166add63",
   "metadata": {},
   "source": [
    "### Data Extraction - Main post"
   ]
  },
  {
   "cell_type": "markdown",
   "id": "d4d8f2e4",
   "metadata": {},
   "source": [
    "#### Extraction - Top posts"
   ]
  },
  {
   "cell_type": "code",
   "execution_count": 9,
   "id": "e45ed5d3-f337-4941-993b-0b33ed5d4f01",
   "metadata": {},
   "outputs": [],
   "source": [
    "# Load data to dataframe\n",
    "df = pd.DataFrame([ vars(post) for post in subreddit.top(time_filter='all', limit=1000)])\n"
   ]
  },
  {
   "cell_type": "code",
   "execution_count": 10,
   "id": "f5e75b02",
   "metadata": {},
   "outputs": [],
   "source": [
    "# Create dataframe with relevant selected columns\n",
    "df_top_final = df[[\"selftext\", \"author_fullname\", \"title\", \"ups\", \"link_flair_text\", \"upvote_ratio\", \"media_embed\", \"created\", \"num_comments\", \"id\"]]"
   ]
  },
  {
   "cell_type": "code",
   "execution_count": 11,
   "id": "be6db819",
   "metadata": {},
   "outputs": [],
   "source": [
    "df_top_final['created'] = df_top_final['created'].map(datetime.utcfromtimestamp)"
   ]
  },
  {
   "cell_type": "code",
   "execution_count": 12,
   "id": "70ed9ff7",
   "metadata": {
    "scrolled": true
   },
   "outputs": [
    {
     "data": {
      "text/html": [
       "<div>\n",
       "<style scoped>\n",
       "    .dataframe tbody tr th:only-of-type {\n",
       "        vertical-align: middle;\n",
       "    }\n",
       "\n",
       "    .dataframe tbody tr th {\n",
       "        vertical-align: top;\n",
       "    }\n",
       "\n",
       "    .dataframe thead th {\n",
       "        text-align: right;\n",
       "    }\n",
       "</style>\n",
       "<table border=\"1\" class=\"dataframe\">\n",
       "  <thead>\n",
       "    <tr style=\"text-align: right;\">\n",
       "      <th></th>\n",
       "      <th>selftext</th>\n",
       "      <th>author_fullname</th>\n",
       "      <th>title</th>\n",
       "      <th>ups</th>\n",
       "      <th>link_flair_text</th>\n",
       "      <th>upvote_ratio</th>\n",
       "      <th>media_embed</th>\n",
       "      <th>created</th>\n",
       "      <th>num_comments</th>\n",
       "      <th>id</th>\n",
       "    </tr>\n",
       "  </thead>\n",
       "  <tbody>\n",
       "    <tr>\n",
       "      <th>0</th>\n",
       "      <td>Hi guys,\\n\\nI've been lurking around this sub ...</td>\n",
       "      <td>t2_14v9x4</td>\n",
       "      <td>Advice from a Canadian Immigration veteran - D...</td>\n",
       "      <td>449</td>\n",
       "      <td>Express Entry</td>\n",
       "      <td>0.97</td>\n",
       "      <td>{}</td>\n",
       "      <td>2020-09-27 16:06:02</td>\n",
       "      <td>67</td>\n",
       "      <td>j0tmbd</td>\n",
       "    </tr>\n",
       "    <tr>\n",
       "      <th>1</th>\n",
       "      <td></td>\n",
       "      <td>t2_2lap81b8</td>\n",
       "      <td>The wait is finally over! EE FSW-O Jan 2020 AOR</td>\n",
       "      <td>424</td>\n",
       "      <td>Express Entry</td>\n",
       "      <td>1.00</td>\n",
       "      <td>{}</td>\n",
       "      <td>2021-06-03 21:32:33</td>\n",
       "      <td>96</td>\n",
       "      <td>nrolek</td>\n",
       "    </tr>\n",
       "    <tr>\n",
       "      <th>2</th>\n",
       "      <td>Minutes ago I received an email notifying me t...</td>\n",
       "      <td>t2_y8cp6w6</td>\n",
       "      <td>I Just Became Permanent Resident</td>\n",
       "      <td>344</td>\n",
       "      <td>Other</td>\n",
       "      <td>0.96</td>\n",
       "      <td>{}</td>\n",
       "      <td>2021-02-17 20:09:12</td>\n",
       "      <td>52</td>\n",
       "      <td>lm3ecw</td>\n",
       "    </tr>\n",
       "    <tr>\n",
       "      <th>3</th>\n",
       "      <td></td>\n",
       "      <td>NaN</td>\n",
       "      <td>Something to rejoice :)</td>\n",
       "      <td>313</td>\n",
       "      <td>Express Entry</td>\n",
       "      <td>0.97</td>\n",
       "      <td>{}</td>\n",
       "      <td>2020-08-01 21:22:43</td>\n",
       "      <td>23</td>\n",
       "      <td>i203uw</td>\n",
       "    </tr>\n",
       "    <tr>\n",
       "      <th>4</th>\n",
       "      <td>Too hyped, can’t sleep. Yes, it took my family...</td>\n",
       "      <td>t2_5jcfoo25</td>\n",
       "      <td>FINALLY BECOMING A PERMANENT RESIDENT AFTER 13...</td>\n",
       "      <td>312</td>\n",
       "      <td>None</td>\n",
       "      <td>0.99</td>\n",
       "      <td>{}</td>\n",
       "      <td>2021-01-18 11:22:00</td>\n",
       "      <td>30</td>\n",
       "      <td>kzsuc5</td>\n",
       "    </tr>\n",
       "    <tr>\n",
       "      <th>...</th>\n",
       "      <td>...</td>\n",
       "      <td>...</td>\n",
       "      <td>...</td>\n",
       "      <td>...</td>\n",
       "      <td>...</td>\n",
       "      <td>...</td>\n",
       "      <td>...</td>\n",
       "      <td>...</td>\n",
       "      <td>...</td>\n",
       "      <td>...</td>\n",
       "    </tr>\n",
       "    <tr>\n",
       "      <th>994</th>\n",
       "      <td>I applied for TRV a while back, and got my Or...</td>\n",
       "      <td>t2_h8r561h</td>\n",
       "      <td>Does Passport request mean VISA (TRV) is appro...</td>\n",
       "      <td>17</td>\n",
       "      <td>Visitor Visa</td>\n",
       "      <td>0.96</td>\n",
       "      <td>{}</td>\n",
       "      <td>2021-09-25 20:13:18</td>\n",
       "      <td>14</td>\n",
       "      <td>pvelrz</td>\n",
       "    </tr>\n",
       "    <tr>\n",
       "      <th>995</th>\n",
       "      <td>Will I be alright? Is there any way for me to ...</td>\n",
       "      <td>t2_3elvx7k8</td>\n",
       "      <td>I just got my student visa extension. I've bee...</td>\n",
       "      <td>16</td>\n",
       "      <td>Other</td>\n",
       "      <td>0.88</td>\n",
       "      <td>{}</td>\n",
       "      <td>2021-09-15 07:43:02</td>\n",
       "      <td>8</td>\n",
       "      <td>polk1w</td>\n",
       "    </tr>\n",
       "    <tr>\n",
       "      <th>996</th>\n",
       "      <td>https://preview.redd.it/quw4avq7gsc71.png?widt...</td>\n",
       "      <td>t2_831ma9k2</td>\n",
       "      <td>Analysis of IRCC PR application processing tim...</td>\n",
       "      <td>17</td>\n",
       "      <td>Express Entry</td>\n",
       "      <td>0.87</td>\n",
       "      <td>{}</td>\n",
       "      <td>2021-07-22 16:10:57</td>\n",
       "      <td>5</td>\n",
       "      <td>oph0v4</td>\n",
       "    </tr>\n",
       "    <tr>\n",
       "      <th>997</th>\n",
       "      <td></td>\n",
       "      <td>t2_cza5zmun</td>\n",
       "      <td>Applying for OHIP - What does this document me...</td>\n",
       "      <td>15</td>\n",
       "      <td>Other</td>\n",
       "      <td>0.91</td>\n",
       "      <td>{}</td>\n",
       "      <td>2021-07-12 23:09:06</td>\n",
       "      <td>9</td>\n",
       "      <td>oj2vd2</td>\n",
       "    </tr>\n",
       "    <tr>\n",
       "      <th>998</th>\n",
       "      <td>Just for the curious, here is my timeline. Als...</td>\n",
       "      <td>t2_l0f9v</td>\n",
       "      <td>My citizenship timeline</td>\n",
       "      <td>16</td>\n",
       "      <td>Citizenship</td>\n",
       "      <td>0.81</td>\n",
       "      <td>{}</td>\n",
       "      <td>2021-06-02 10:28:32</td>\n",
       "      <td>7</td>\n",
       "      <td>nqioti</td>\n",
       "    </tr>\n",
       "  </tbody>\n",
       "</table>\n",
       "<p>999 rows × 10 columns</p>\n",
       "</div>"
      ],
      "text/plain": [
       "                                              selftext author_fullname  \\\n",
       "0    Hi guys,\\n\\nI've been lurking around this sub ...       t2_14v9x4   \n",
       "1                                                          t2_2lap81b8   \n",
       "2    Minutes ago I received an email notifying me t...      t2_y8cp6w6   \n",
       "3                                                                  NaN   \n",
       "4    Too hyped, can’t sleep. Yes, it took my family...     t2_5jcfoo25   \n",
       "..                                                 ...             ...   \n",
       "994   I applied for TRV a while back, and got my Or...      t2_h8r561h   \n",
       "995  Will I be alright? Is there any way for me to ...     t2_3elvx7k8   \n",
       "996  https://preview.redd.it/quw4avq7gsc71.png?widt...     t2_831ma9k2   \n",
       "997                                                        t2_cza5zmun   \n",
       "998  Just for the curious, here is my timeline. Als...        t2_l0f9v   \n",
       "\n",
       "                                                 title  ups link_flair_text  \\\n",
       "0    Advice from a Canadian Immigration veteran - D...  449   Express Entry   \n",
       "1      The wait is finally over! EE FSW-O Jan 2020 AOR  424   Express Entry   \n",
       "2                     I Just Became Permanent Resident  344           Other   \n",
       "3                              Something to rejoice :)  313   Express Entry   \n",
       "4    FINALLY BECOMING A PERMANENT RESIDENT AFTER 13...  312            None   \n",
       "..                                                 ...  ...             ...   \n",
       "994  Does Passport request mean VISA (TRV) is appro...   17    Visitor Visa   \n",
       "995  I just got my student visa extension. I've bee...   16           Other   \n",
       "996  Analysis of IRCC PR application processing tim...   17   Express Entry   \n",
       "997  Applying for OHIP - What does this document me...   15           Other   \n",
       "998                            My citizenship timeline   16     Citizenship   \n",
       "\n",
       "     upvote_ratio media_embed             created  num_comments      id  \n",
       "0            0.97          {} 2020-09-27 16:06:02            67  j0tmbd  \n",
       "1            1.00          {} 2021-06-03 21:32:33            96  nrolek  \n",
       "2            0.96          {} 2021-02-17 20:09:12            52  lm3ecw  \n",
       "3            0.97          {} 2020-08-01 21:22:43            23  i203uw  \n",
       "4            0.99          {} 2021-01-18 11:22:00            30  kzsuc5  \n",
       "..            ...         ...                 ...           ...     ...  \n",
       "994          0.96          {} 2021-09-25 20:13:18            14  pvelrz  \n",
       "995          0.88          {} 2021-09-15 07:43:02             8  polk1w  \n",
       "996          0.87          {} 2021-07-22 16:10:57             5  oph0v4  \n",
       "997          0.91          {} 2021-07-12 23:09:06             9  oj2vd2  \n",
       "998          0.81          {} 2021-06-02 10:28:32             7  nqioti  \n",
       "\n",
       "[999 rows x 10 columns]"
      ]
     },
     "execution_count": 12,
     "metadata": {},
     "output_type": "execute_result"
    }
   ],
   "source": [
    "df_top_final"
   ]
  },
  {
   "cell_type": "markdown",
   "id": "820119bd",
   "metadata": {},
   "source": [
    "#### Extraction - Posts by Year"
   ]
  },
  {
   "cell_type": "code",
   "execution_count": null,
   "id": "6168d1db",
   "metadata": {},
   "outputs": [],
   "source": [
    "# Load data using Pushift API\n",
    "api = PushshiftAPI()"
   ]
  },
  {
   "cell_type": "code",
   "execution_count": null,
   "id": "6a8311b4",
   "metadata": {},
   "outputs": [],
   "source": [
    "start_epoch=int(dt.datetime(2022, 1, 1).timestamp())\n",
    "end_epoch = int(dt.datetime(2022,12,31).timestamp())\n",
    "gen_2022 = api.search_submissions()\n",
    "posts_2022 = list(gen_2022)"
   ]
  },
  {
   "cell_type": "code",
   "execution_count": null,
   "id": "7d7117da",
   "metadata": {},
   "outputs": [],
   "source": []
  },
  {
   "cell_type": "code",
   "execution_count": null,
   "id": "1727129c",
   "metadata": {},
   "outputs": [],
   "source": []
  },
  {
   "cell_type": "markdown",
   "id": "c7b47c3b",
   "metadata": {},
   "source": [
    "### Data Extraction - Comments"
   ]
  },
  {
   "cell_type": "code",
   "execution_count": null,
   "id": "91c9e603",
   "metadata": {},
   "outputs": [],
   "source": []
  },
  {
   "cell_type": "code",
   "execution_count": null,
   "id": "42f98fa1",
   "metadata": {},
   "outputs": [],
   "source": []
  },
  {
   "cell_type": "code",
   "execution_count": null,
   "id": "770b2f74",
   "metadata": {},
   "outputs": [],
   "source": []
  }
 ],
 "metadata": {
  "kernelspec": {
   "display_name": "Python 3 (ipykernel)",
   "language": "python",
   "name": "python3"
  },
  "language_info": {
   "codemirror_mode": {
    "name": "ipython",
    "version": 3
   },
   "file_extension": ".py",
   "mimetype": "text/x-python",
   "name": "python",
   "nbconvert_exporter": "python",
   "pygments_lexer": "ipython3",
   "version": "3.7.3"
  }
 },
 "nbformat": 4,
 "nbformat_minor": 5
}
