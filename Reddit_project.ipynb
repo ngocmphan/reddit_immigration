{
 "cells": [
  {
   "cell_type": "markdown",
   "id": "9bf696dc-dd9a-47cc-bf8e-94d026719918",
   "metadata": {},
   "source": [
    "# Analysis of Reddit sub"
   ]
  },
  {
   "cell_type": "markdown",
   "id": "9eadeb05-3931-4c5f-aaf9-f94127905112",
   "metadata": {},
   "source": [
    "## Data preparation"
   ]
  },
  {
   "cell_type": "markdown",
   "id": "66a48d08-9e57-4e8d-9017-51761217e6d9",
   "metadata": {},
   "source": [
    "### Connect to Reddit"
   ]
  },
  {
   "cell_type": "code",
   "execution_count": 21,
   "id": "b8ca785d",
   "metadata": {},
   "outputs": [],
   "source": [
    "import pandas as pd\n",
    "from datetime import datetime\n",
    "pd.options.mode.chained_assignment = None"
   ]
  },
  {
   "cell_type": "code",
   "execution_count": 4,
   "id": "9bd1ce6d-8ff8-4886-8a46-120c06028e50",
   "metadata": {},
   "outputs": [],
   "source": [
    "import praw\n",
    "\n",
    "\n",
    "reddit = praw.Reddit(client_id = 'CFmuJgTqCFZds1GVjJcr_Q', \n",
    "                     client_secret = 'NHxFI6Bs6WCFiqdbQ_WfCfah_sfsRg',\n",
    "                     user_agent ='imm_praw_proj')\n",
    "\n"
   ]
  },
  {
   "cell_type": "markdown",
   "id": "9221ba40-515a-40ab-9451-ff7a4f91b9c5",
   "metadata": {},
   "source": [
    "### Connect to Subreddit"
   ]
  },
  {
   "cell_type": "code",
   "execution_count": 5,
   "id": "b8e11118-dab7-4249-b96d-226e0b1d1f68",
   "metadata": {},
   "outputs": [],
   "source": [
    "subreddit = reddit.subreddit('ImmigrationCanada')"
   ]
  },
  {
   "cell_type": "markdown",
   "id": "166add63",
   "metadata": {},
   "source": [
    "### Data Extraction - Main post"
   ]
  },
  {
   "cell_type": "markdown",
   "id": "d4d8f2e4",
   "metadata": {},
   "source": [
    "#### Extraction - Top posts"
   ]
  },
  {
   "cell_type": "code",
   "execution_count": 8,
   "id": "e45ed5d3-f337-4941-993b-0b33ed5d4f01",
   "metadata": {},
   "outputs": [],
   "source": [
    "# Load data to dataframe\n",
    "df = pd.DataFrame([ vars(post) for post in subreddit.top(time_filter='all', limit=1000)])\n"
   ]
  },
  {
   "cell_type": "code",
   "execution_count": 22,
   "id": "f5e75b02",
   "metadata": {},
   "outputs": [],
   "source": [
    "# Create dataframe with relevant selected columns\n",
    "df_top_final = df[[\"selftext\", \"author_fullname\", \"title\", \"ups\", \"link_flair_text\", \"upvote_ratio\", \"media_embed\", \"created\", \"num_comments\", \"id\"]]"
   ]
  },
  {
   "cell_type": "code",
   "execution_count": 28,
   "id": "be6db819",
   "metadata": {},
   "outputs": [],
   "source": [
    "df_top_final['created'] = df_top_final['created'].map(datetime.utcfromtimestamp)"
   ]
  },
  {
   "cell_type": "code",
   "execution_count": 29,
   "id": "70ed9ff7",
   "metadata": {
    "scrolled": true
   },
   "outputs": [
    {
     "data": {
      "text/html": [
       "<div>\n",
       "<style scoped>\n",
       "    .dataframe tbody tr th:only-of-type {\n",
       "        vertical-align: middle;\n",
       "    }\n",
       "\n",
       "    .dataframe tbody tr th {\n",
       "        vertical-align: top;\n",
       "    }\n",
       "\n",
       "    .dataframe thead th {\n",
       "        text-align: right;\n",
       "    }\n",
       "</style>\n",
       "<table border=\"1\" class=\"dataframe\">\n",
       "  <thead>\n",
       "    <tr style=\"text-align: right;\">\n",
       "      <th></th>\n",
       "      <th>selftext</th>\n",
       "      <th>author_fullname</th>\n",
       "      <th>title</th>\n",
       "      <th>ups</th>\n",
       "      <th>link_flair_text</th>\n",
       "      <th>upvote_ratio</th>\n",
       "      <th>media_embed</th>\n",
       "      <th>created</th>\n",
       "      <th>num_comments</th>\n",
       "      <th>id</th>\n",
       "    </tr>\n",
       "  </thead>\n",
       "  <tbody>\n",
       "    <tr>\n",
       "      <th>0</th>\n",
       "      <td>Hi guys,\\n\\nI've been lurking around this sub ...</td>\n",
       "      <td>t2_14v9x4</td>\n",
       "      <td>Advice from a Canadian Immigration veteran - D...</td>\n",
       "      <td>448</td>\n",
       "      <td>Express Entry</td>\n",
       "      <td>0.97</td>\n",
       "      <td>{}</td>\n",
       "      <td>2020-09-27 16:06:02</td>\n",
       "      <td>67</td>\n",
       "      <td>j0tmbd</td>\n",
       "    </tr>\n",
       "    <tr>\n",
       "      <th>1</th>\n",
       "      <td></td>\n",
       "      <td>t2_2lap81b8</td>\n",
       "      <td>The wait is finally over! EE FSW-O Jan 2020 AOR</td>\n",
       "      <td>429</td>\n",
       "      <td>Express Entry</td>\n",
       "      <td>1.00</td>\n",
       "      <td>{}</td>\n",
       "      <td>2021-06-03 21:32:33</td>\n",
       "      <td>96</td>\n",
       "      <td>nrolek</td>\n",
       "    </tr>\n",
       "    <tr>\n",
       "      <th>2</th>\n",
       "      <td>Minutes ago I received an email notifying me t...</td>\n",
       "      <td>t2_y8cp6w6</td>\n",
       "      <td>I Just Became Permanent Resident</td>\n",
       "      <td>346</td>\n",
       "      <td>Other</td>\n",
       "      <td>0.96</td>\n",
       "      <td>{}</td>\n",
       "      <td>2021-02-17 20:09:12</td>\n",
       "      <td>52</td>\n",
       "      <td>lm3ecw</td>\n",
       "    </tr>\n",
       "    <tr>\n",
       "      <th>3</th>\n",
       "      <td></td>\n",
       "      <td>NaN</td>\n",
       "      <td>Something to rejoice :)</td>\n",
       "      <td>318</td>\n",
       "      <td>Express Entry</td>\n",
       "      <td>0.97</td>\n",
       "      <td>{}</td>\n",
       "      <td>2020-08-01 21:22:43</td>\n",
       "      <td>23</td>\n",
       "      <td>i203uw</td>\n",
       "    </tr>\n",
       "    <tr>\n",
       "      <th>4</th>\n",
       "      <td>Too hyped, can’t sleep. Yes, it took my family...</td>\n",
       "      <td>t2_5jcfoo25</td>\n",
       "      <td>FINALLY BECOMING A PERMANENT RESIDENT AFTER 13...</td>\n",
       "      <td>309</td>\n",
       "      <td>None</td>\n",
       "      <td>0.99</td>\n",
       "      <td>{}</td>\n",
       "      <td>2021-01-18 11:22:00</td>\n",
       "      <td>30</td>\n",
       "      <td>kzsuc5</td>\n",
       "    </tr>\n",
       "    <tr>\n",
       "      <th>...</th>\n",
       "      <td>...</td>\n",
       "      <td>...</td>\n",
       "      <td>...</td>\n",
       "      <td>...</td>\n",
       "      <td>...</td>\n",
       "      <td>...</td>\n",
       "      <td>...</td>\n",
       "      <td>...</td>\n",
       "      <td>...</td>\n",
       "      <td>...</td>\n",
       "    </tr>\n",
       "    <tr>\n",
       "      <th>994</th>\n",
       "      <td>**TR to PR: International Graduate (Non-French...</td>\n",
       "      <td>t2_b1yqh6nw</td>\n",
       "      <td>Public Policy 2021 (TR to PR) - International ...</td>\n",
       "      <td>17</td>\n",
       "      <td>Public Policy pathways</td>\n",
       "      <td>0.92</td>\n",
       "      <td>{}</td>\n",
       "      <td>2021-05-23 21:40:39</td>\n",
       "      <td>47</td>\n",
       "      <td>nji11i</td>\n",
       "    </tr>\n",
       "    <tr>\n",
       "      <th>995</th>\n",
       "      <td>Hey guys, got COPR yesterday and wanted to sha...</td>\n",
       "      <td>t2_82uxbfbk</td>\n",
       "      <td>CEC Inland COPR timeline</td>\n",
       "      <td>16</td>\n",
       "      <td>Express Entry</td>\n",
       "      <td>0.88</td>\n",
       "      <td>{}</td>\n",
       "      <td>2021-05-20 19:39:51</td>\n",
       "      <td>14</td>\n",
       "      <td>nh9gcq</td>\n",
       "    </tr>\n",
       "    <tr>\n",
       "      <th>996</th>\n",
       "      <td>Hi everyone. I have two queries regarding the ...</td>\n",
       "      <td>t2_3yionwat</td>\n",
       "      <td>Canadian Study Permit</td>\n",
       "      <td>17</td>\n",
       "      <td>Study Permit</td>\n",
       "      <td>1.00</td>\n",
       "      <td>{}</td>\n",
       "      <td>2021-04-24 14:22:43</td>\n",
       "      <td>8</td>\n",
       "      <td>mxkxxc</td>\n",
       "    </tr>\n",
       "    <tr>\n",
       "      <th>997</th>\n",
       "      <td>IRCC has [acknowledged](https://www.canada.ca/...</td>\n",
       "      <td>t2_16i2n7</td>\n",
       "      <td>\"Implied Status\" now called \"Maintained Status\"</td>\n",
       "      <td>18</td>\n",
       "      <td>Other</td>\n",
       "      <td>0.95</td>\n",
       "      <td>{}</td>\n",
       "      <td>2021-04-12 18:44:07</td>\n",
       "      <td>1</td>\n",
       "      <td>mpkdqt</td>\n",
       "    </tr>\n",
       "    <tr>\n",
       "      <th>998</th>\n",
       "      <td>Hello, so I did a 1yr post grad, currently hav...</td>\n",
       "      <td>t2_7erqj2gu</td>\n",
       "      <td>Should I do my IELTS again on an overall score...</td>\n",
       "      <td>17</td>\n",
       "      <td>Express Entry</td>\n",
       "      <td>1.00</td>\n",
       "      <td>{}</td>\n",
       "      <td>2021-03-30 05:40:30</td>\n",
       "      <td>27</td>\n",
       "      <td>mg8yiw</td>\n",
       "    </tr>\n",
       "  </tbody>\n",
       "</table>\n",
       "<p>999 rows × 10 columns</p>\n",
       "</div>"
      ],
      "text/plain": [
       "                                              selftext author_fullname  \\\n",
       "0    Hi guys,\\n\\nI've been lurking around this sub ...       t2_14v9x4   \n",
       "1                                                          t2_2lap81b8   \n",
       "2    Minutes ago I received an email notifying me t...      t2_y8cp6w6   \n",
       "3                                                                  NaN   \n",
       "4    Too hyped, can’t sleep. Yes, it took my family...     t2_5jcfoo25   \n",
       "..                                                 ...             ...   \n",
       "994  **TR to PR: International Graduate (Non-French...     t2_b1yqh6nw   \n",
       "995  Hey guys, got COPR yesterday and wanted to sha...     t2_82uxbfbk   \n",
       "996  Hi everyone. I have two queries regarding the ...     t2_3yionwat   \n",
       "997  IRCC has [acknowledged](https://www.canada.ca/...       t2_16i2n7   \n",
       "998  Hello, so I did a 1yr post grad, currently hav...     t2_7erqj2gu   \n",
       "\n",
       "                                                 title  ups  \\\n",
       "0    Advice from a Canadian Immigration veteran - D...  448   \n",
       "1      The wait is finally over! EE FSW-O Jan 2020 AOR  429   \n",
       "2                     I Just Became Permanent Resident  346   \n",
       "3                              Something to rejoice :)  318   \n",
       "4    FINALLY BECOMING A PERMANENT RESIDENT AFTER 13...  309   \n",
       "..                                                 ...  ...   \n",
       "994  Public Policy 2021 (TR to PR) - International ...   17   \n",
       "995                           CEC Inland COPR timeline   16   \n",
       "996                              Canadian Study Permit   17   \n",
       "997    \"Implied Status\" now called \"Maintained Status\"   18   \n",
       "998  Should I do my IELTS again on an overall score...   17   \n",
       "\n",
       "            link_flair_text  upvote_ratio media_embed             created  \\\n",
       "0             Express Entry          0.97          {} 2020-09-27 16:06:02   \n",
       "1             Express Entry          1.00          {} 2021-06-03 21:32:33   \n",
       "2                     Other          0.96          {} 2021-02-17 20:09:12   \n",
       "3             Express Entry          0.97          {} 2020-08-01 21:22:43   \n",
       "4                      None          0.99          {} 2021-01-18 11:22:00   \n",
       "..                      ...           ...         ...                 ...   \n",
       "994  Public Policy pathways          0.92          {} 2021-05-23 21:40:39   \n",
       "995           Express Entry          0.88          {} 2021-05-20 19:39:51   \n",
       "996            Study Permit          1.00          {} 2021-04-24 14:22:43   \n",
       "997                   Other          0.95          {} 2021-04-12 18:44:07   \n",
       "998           Express Entry          1.00          {} 2021-03-30 05:40:30   \n",
       "\n",
       "     num_comments      id  \n",
       "0              67  j0tmbd  \n",
       "1              96  nrolek  \n",
       "2              52  lm3ecw  \n",
       "3              23  i203uw  \n",
       "4              30  kzsuc5  \n",
       "..            ...     ...  \n",
       "994            47  nji11i  \n",
       "995            14  nh9gcq  \n",
       "996             8  mxkxxc  \n",
       "997             1  mpkdqt  \n",
       "998            27  mg8yiw  \n",
       "\n",
       "[999 rows x 10 columns]"
      ]
     },
     "execution_count": 29,
     "metadata": {},
     "output_type": "execute_result"
    }
   ],
   "source": [
    "df_top_final"
   ]
  },
  {
   "cell_type": "markdown",
   "id": "820119bd",
   "metadata": {},
   "source": [
    "#### Extraction - Hot posts"
   ]
  },
  {
   "cell_type": "code",
   "execution_count": null,
   "id": "6168d1db",
   "metadata": {},
   "outputs": [],
   "source": []
  },
  {
   "cell_type": "markdown",
   "id": "c7b47c3b",
   "metadata": {},
   "source": [
    "### Data Extraction - Comments"
   ]
  },
  {
   "cell_type": "code",
   "execution_count": null,
   "id": "91c9e603",
   "metadata": {},
   "outputs": [],
   "source": []
  },
  {
   "cell_type": "code",
   "execution_count": null,
   "id": "42f98fa1",
   "metadata": {},
   "outputs": [],
   "source": []
  },
  {
   "cell_type": "code",
   "execution_count": null,
   "id": "770b2f74",
   "metadata": {},
   "outputs": [],
   "source": []
  }
 ],
 "metadata": {
  "kernelspec": {
   "display_name": "Python 3 (ipykernel)",
   "language": "python",
   "name": "python3"
  },
  "language_info": {
   "codemirror_mode": {
    "name": "ipython",
    "version": 3
   },
   "file_extension": ".py",
   "mimetype": "text/x-python",
   "name": "python",
   "nbconvert_exporter": "python",
   "pygments_lexer": "ipython3",
   "version": "3.7.3"
  }
 },
 "nbformat": 4,
 "nbformat_minor": 5
}
