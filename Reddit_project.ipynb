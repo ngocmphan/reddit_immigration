{
 "cells": [
  {
   "cell_type": "markdown",
   "id": "9bf696dc-dd9a-47cc-bf8e-94d026719918",
   "metadata": {},
   "source": [
    "# Analysis of Reddit sub"
   ]
  },
  {
   "cell_type": "markdown",
   "id": "9eadeb05-3931-4c5f-aaf9-f94127905112",
   "metadata": {},
   "source": [
    "## Data preparation"
   ]
  },
  {
   "cell_type": "markdown",
   "id": "66a48d08-9e57-4e8d-9017-51761217e6d9",
   "metadata": {},
   "source": [
    "### Connect to Reddit"
   ]
  },
  {
   "cell_type": "code",
   "execution_count": 8,
   "id": "735ed90f",
   "metadata": {},
   "outputs": [],
   "source": [
    "import pandas as pd"
   ]
  },
  {
   "cell_type": "code",
   "execution_count": 1,
   "id": "9bd1ce6d-8ff8-4886-8a46-120c06028e50",
   "metadata": {},
   "outputs": [],
   "source": [
    "import praw\n",
    "\n",
    "with open('pass.txt', 'r') as file:\n",
    "    password = file.read()\n",
    "\n",
    "reddit = praw.Reddit(client_id = 'CFmuJgTqCFZds1GVjJcr_Q', \n",
    "                     client_secret = 'NHxFI6Bs6WCFiqdbQ_WfCfah_sfsRg',\n",
    "                     user_agent ='imm_praw_proj')\n",
    "\n"
   ]
  },
  {
   "cell_type": "markdown",
   "id": "9221ba40-515a-40ab-9451-ff7a4f91b9c5",
   "metadata": {},
   "source": [
    "### Connect to Subreddit"
   ]
  },
  {
   "cell_type": "code",
   "execution_count": 2,
   "id": "b8e11118-dab7-4249-b96d-226e0b1d1f68",
   "metadata": {},
   "outputs": [],
   "source": [
    "subreddit = reddit.subreddit('ImmigrationCanada')"
   ]
  },
  {
   "cell_type": "code",
   "execution_count": 3,
   "id": "9e00ad56-860c-4490-9681-507bad781711",
   "metadata": {},
   "outputs": [
    {
     "name": "stdout",
     "output_type": "stream",
     "text": [
      "<class 'praw.models.listing.generator.ListingGenerator'>\n"
     ]
    }
   ],
   "source": [
    "hot_sub = subreddit.hot(limit=100)\n",
    "print(type(hot_sub))"
   ]
  },
  {
   "cell_type": "code",
   "execution_count": 4,
   "id": "eb2765c1-6166-44a9-a493-700c23de5105",
   "metadata": {},
   "outputs": [
    {
     "name": "stdout",
     "output_type": "stream",
     "text": [
      "Megathreads - processing times/timelines\n",
      "27\n",
      "New Discord Server\n",
      "66\n",
      "Draw #241\n",
      "12\n"
     ]
    }
   ],
   "source": [
    "for submission in hot_sub:\n",
    "    print(submission.title)\n",
    "    print(submission.score)"
   ]
  },
  {
   "cell_type": "markdown",
   "id": "10e36bbf",
   "metadata": {},
   "source": [
    "### Data Extraction - Main post"
   ]
  },
  {
   "cell_type": "code",
   "execution_count": 56,
   "id": "e45ed5d3-f337-4941-993b-0b33ed5d4f01",
   "metadata": {},
   "outputs": [],
   "source": [
    "df = pd.DataFrame([ vars(post) for post in subreddit.hot(limit=1000)])\n",
    "df_final = df[[\"selftext\", \"author_fullname\", \"title\", \"ups\", \"link_flair_text\", \"upvote_ratio\", \"media_embed\", \"created_utc\", \"num_comments\", \"id\"]]"
   ]
  },
  {
   "cell_type": "code",
   "execution_count": 58,
   "id": "8ff910b2",
   "metadata": {},
   "outputs": [],
   "source": [
    "df_final = df_final.set_index(\"id\")\n"
   ]
  },
  {
   "cell_type": "code",
   "execution_count": 16,
   "id": "d68c0340",
   "metadata": {},
   "outputs": [
    {
     "name": "stdout",
     "output_type": "stream",
     "text": [
      "['comment_limit', 'comment_sort', '_reddit', 'approved_at_utc', 'subreddit', 'selftext', 'author_fullname', 'saved', 'mod_reason_title', 'gilded', 'clicked', 'title', 'link_flair_richtext', 'subreddit_name_prefixed', 'hidden', 'pwls', 'link_flair_css_class', 'downs', 'top_awarded_type', 'hide_score', 'name', 'quarantine', 'link_flair_text_color', 'upvote_ratio', 'author_flair_background_color', 'subreddit_type', 'ups', 'total_awards_received', 'media_embed', 'author_flair_template_id', 'is_original_content', 'user_reports', 'secure_media', 'is_reddit_media_domain', 'is_meta', 'category', 'secure_media_embed', 'link_flair_text', 'can_mod_post', 'score', 'approved_by', 'is_created_from_ads_ui', 'author_premium', 'thumbnail', 'edited', 'author_flair_css_class', 'author_flair_richtext', 'gildings', 'content_categories', 'is_self', 'mod_note', 'created', 'link_flair_type', 'wls', 'removed_by_category', 'banned_by', 'author_flair_type', 'domain', 'allow_live_comments', 'selftext_html', 'likes', 'suggested_sort', 'banned_at_utc', 'view_count', 'archived', 'no_follow', 'is_crosspostable', 'pinned', 'over_18', 'all_awardings', 'awarders', 'media_only', 'can_gild', 'spoiler', 'locked', 'author_flair_text', 'treatment_tags', 'visited', 'removed_by', 'num_reports', 'distinguished', 'subreddit_id', 'author_is_blocked', 'mod_reason_by', 'removal_reason', 'link_flair_background_color', 'id', 'is_robot_indexable', 'report_reasons', 'author', 'discussion_type', 'num_comments', 'send_replies', 'whitelist_status', 'contest_mode', 'mod_reports', 'author_patreon_flair', 'author_flair_text_color', 'permalink', 'parent_whitelist_status', 'stickied', 'url', 'subreddit_subscribers', 'created_utc', 'num_crossposts', 'media', 'is_video', '_fetched', '_comments_by_id', 'link_flair_template_id', 'author_cakeday']\n"
     ]
    }
   ],
   "source": [
    "all_columns = list(df.columns)\n",
    "print(all_columns)"
   ]
  },
  {
   "cell_type": "code",
   "execution_count": 51,
   "id": "c01b1743",
   "metadata": {},
   "outputs": [
    {
     "name": "stdout",
     "output_type": "stream",
     "text": [
      "comment_limit\n",
      "2048\n",
      "comment_sort\n",
      "confidence\n",
      "_reddit\n",
      "<praw.reddit.Reddit object at 0x7f867bdf09b0>\n",
      "approved_at_utc\n",
      "None\n",
      "subreddit\n",
      "ImmigrationCanada\n",
      "selftext\n",
      "Provincial Nominee Program only\n",
      "\n",
      "Number of invitations issued: 699\n",
      "\n",
      "Rank required to be invited to apply: 699 or above\n",
      "\n",
      "Date and time of round: February 15, 2023, at 16:13:27 UTC\n",
      "\n",
      "CRS score of lowest-ranked candidate invited: 791\n",
      "\n",
      "Tie-breaking rule: February 08, 2023, at 18:09:01 UTC\n",
      "author_fullname\n",
      "t2_7f0gdy13\n",
      "saved\n",
      "False\n",
      "mod_reason_title\n",
      "None\n",
      "gilded\n",
      "0\n",
      "clicked\n",
      "False\n",
      "title\n",
      "Draw #241\n",
      "link_flair_richtext\n",
      "[]\n",
      "subreddit_name_prefixed\n",
      "r/ImmigrationCanada\n",
      "hidden\n",
      "False\n",
      "pwls\n",
      "6\n",
      "link_flair_css_class\n",
      "ee\n",
      "downs\n",
      "0\n",
      "top_awarded_type\n",
      "None\n",
      "hide_score\n",
      "False\n",
      "name\n",
      "t3_1137m3o\n",
      "quarantine\n",
      "False\n",
      "link_flair_text_color\n",
      "dark\n",
      "upvote_ratio\n",
      "1.0\n",
      "author_flair_background_color\n",
      "None\n",
      "subreddit_type\n",
      "public\n",
      "ups\n",
      "12\n",
      "total_awards_received\n",
      "0\n",
      "media_embed\n",
      "{}\n",
      "author_flair_template_id\n",
      "None\n",
      "is_original_content\n",
      "False\n",
      "user_reports\n",
      "[]\n",
      "secure_media\n",
      "None\n",
      "is_reddit_media_domain\n",
      "False\n",
      "is_meta\n",
      "False\n",
      "category\n",
      "None\n",
      "secure_media_embed\n",
      "{}\n",
      "link_flair_text\n",
      "Express Entry\n",
      "can_mod_post\n",
      "False\n",
      "score\n",
      "12\n",
      "approved_by\n",
      "None\n",
      "is_created_from_ads_ui\n",
      "False\n",
      "author_premium\n",
      "False\n",
      "thumbnail\n",
      "\n",
      "edited\n",
      "False\n",
      "author_flair_css_class\n",
      "None\n",
      "author_flair_richtext\n",
      "[]\n",
      "gildings\n",
      "{}\n",
      "content_categories\n",
      "None\n",
      "is_self\n",
      "True\n",
      "mod_note\n",
      "None\n",
      "created\n",
      "1676492735.0\n",
      "link_flair_type\n",
      "text\n",
      "wls\n",
      "6\n",
      "removed_by_category\n",
      "None\n",
      "banned_by\n",
      "None\n",
      "author_flair_type\n",
      "text\n",
      "domain\n",
      "self.ImmigrationCanada\n",
      "allow_live_comments\n",
      "False\n",
      "selftext_html\n",
      "<!-- SC_OFF --><div class=\"md\"><p>Provincial Nominee Program only</p>\n",
      "\n",
      "<p>Number of invitations issued: 699</p>\n",
      "\n",
      "<p>Rank required to be invited to apply: 699 or above</p>\n",
      "\n",
      "<p>Date and time of round: February 15, 2023, at 16:13:27 UTC</p>\n",
      "\n",
      "<p>CRS score of lowest-ranked candidate invited: 791</p>\n",
      "\n",
      "<p>Tie-breaking rule: February 08, 2023, at 18:09:01 UTC</p>\n",
      "</div><!-- SC_ON -->\n",
      "likes\n",
      "None\n",
      "suggested_sort\n",
      "None\n",
      "banned_at_utc\n",
      "None\n",
      "view_count\n",
      "None\n",
      "archived\n",
      "False\n",
      "no_follow\n",
      "False\n",
      "is_crosspostable\n",
      "False\n",
      "pinned\n",
      "False\n",
      "over_18\n",
      "False\n",
      "all_awardings\n",
      "[]\n",
      "awarders\n",
      "[]\n",
      "media_only\n",
      "False\n",
      "can_gild\n",
      "False\n",
      "spoiler\n",
      "False\n",
      "locked\n",
      "False\n",
      "author_flair_text\n",
      "None\n",
      "treatment_tags\n",
      "[]\n",
      "visited\n",
      "False\n",
      "removed_by\n",
      "None\n",
      "num_reports\n",
      "None\n",
      "distinguished\n",
      "None\n",
      "subreddit_id\n",
      "t5_2w94s\n",
      "author_is_blocked\n",
      "False\n",
      "mod_reason_by\n",
      "None\n",
      "removal_reason\n",
      "None\n",
      "link_flair_background_color\n",
      "\n",
      "id\n",
      "1137m3o\n",
      "is_robot_indexable\n",
      "True\n",
      "report_reasons\n",
      "None\n",
      "author\n",
      "Throwaway-481\n",
      "discussion_type\n",
      "None\n",
      "num_comments\n",
      "14\n",
      "send_replies\n",
      "True\n",
      "whitelist_status\n",
      "all_ads\n",
      "contest_mode\n",
      "False\n",
      "mod_reports\n",
      "[]\n",
      "author_patreon_flair\n",
      "False\n",
      "author_flair_text_color\n",
      "None\n",
      "permalink\n",
      "/r/ImmigrationCanada/comments/1137m3o/draw_241/\n",
      "parent_whitelist_status\n",
      "all_ads\n",
      "stickied\n",
      "False\n",
      "url\n",
      "https://www.reddit.com/r/ImmigrationCanada/comments/1137m3o/draw_241/\n",
      "subreddit_subscribers\n",
      "87990\n",
      "created_utc\n",
      "1676492735.0\n",
      "num_crossposts\n",
      "0\n",
      "media\n",
      "None\n",
      "is_video\n",
      "False\n",
      "_fetched\n",
      "False\n",
      "_comments_by_id\n",
      "{}\n",
      "link_flair_template_id\n",
      "14bd281a-67e1-11e7-ae2a-0e8c56f9102e\n",
      "author_cakeday\n",
      "nan\n"
     ]
    }
   ],
   "source": [
    "\n",
    "for a in all_columns:\n",
    "    print(a)\n",
    "    print(df[a][2])"
   ]
  },
  {
   "cell_type": "code",
   "execution_count": null,
   "id": "0277e192",
   "metadata": {},
   "outputs": [],
   "source": []
  },
  {
   "cell_type": "markdown",
   "id": "24256046",
   "metadata": {},
   "source": [
    "### Data Extraction - Comments"
   ]
  },
  {
   "cell_type": "code",
   "execution_count": null,
   "id": "760d8609",
   "metadata": {},
   "outputs": [],
   "source": []
  }
 ],
 "metadata": {
  "kernelspec": {
   "display_name": "Python 3 (ipykernel)",
   "language": "python",
   "name": "python3"
  },
  "language_info": {
   "codemirror_mode": {
    "name": "ipython",
    "version": 3
   },
   "file_extension": ".py",
   "mimetype": "text/x-python",
   "name": "python",
   "nbconvert_exporter": "python",
   "pygments_lexer": "ipython3",
   "version": "3.7.3"
  }
 },
 "nbformat": 4,
 "nbformat_minor": 5
}
