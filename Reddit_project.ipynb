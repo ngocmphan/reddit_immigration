{
 "cells": [
  {
   "cell_type": "markdown",
   "id": "9bf696dc-dd9a-47cc-bf8e-94d026719918",
   "metadata": {},
   "source": [
    "# Analysis of Reddit sub"
   ]
  },
  {
   "cell_type": "markdown",
   "id": "9eadeb05-3931-4c5f-aaf9-f94127905112",
   "metadata": {},
   "source": [
    "## Data preparation"
   ]
  },
  {
   "cell_type": "markdown",
   "id": "66a48d08-9e57-4e8d-9017-51761217e6d9",
   "metadata": {},
   "source": [
    "### Connect to Reddit"
   ]
  },
  {
   "cell_type": "code",
   "execution_count": 35,
   "id": "9bd1ce6d-8ff8-4886-8a46-120c06028e50",
   "metadata": {},
   "outputs": [],
   "source": [
    "import praw\n",
    "\n",
    "with open('pass.txt', 'r') as file:\n",
    "    password = file.read()\n",
    "\n",
    "reddit = praw.Reddit(client_id = 'CFmuJgTqCFZds1GVjJcr_Q', \n",
    "                     client_secret = 'NHxFI6Bs6WCFiqdbQ_WfCfah_sfsRg',\n",
    "                     user_agent ='imm_praw_proj')\n",
    "\n"
   ]
  },
  {
   "cell_type": "markdown",
   "id": "9221ba40-515a-40ab-9451-ff7a4f91b9c5",
   "metadata": {},
   "source": [
    "### Connect to Subreddit"
   ]
  },
  {
   "cell_type": "code",
   "execution_count": 36,
   "id": "b8e11118-dab7-4249-b96d-226e0b1d1f68",
   "metadata": {},
   "outputs": [],
   "source": [
    "subreddit = reddit.subreddit('ImmigrationCanada')"
   ]
  },
  {
   "cell_type": "code",
   "execution_count": 37,
   "id": "9e00ad56-860c-4490-9681-507bad781711",
   "metadata": {},
   "outputs": [],
   "source": [
    "hot_sub = subreddit.hot(limit=3)"
   ]
  },
  {
   "cell_type": "code",
   "execution_count": 38,
   "id": "eb2765c1-6166-44a9-a493-700c23de5105",
   "metadata": {},
   "outputs": [
    {
     "name": "stdout",
     "output_type": "stream",
     "text": [
      "Megathreads - processing times, timelines, travel restrictions, etc.\n",
      "Does salary affect my eligibility for Express Entry?\n",
      "Applying PR from New full time work allowance for students?\n"
     ]
    }
   ],
   "source": [
    "for submission in hot_sub:\n",
    "    print(submission.title)"
   ]
  },
  {
   "cell_type": "code",
   "execution_count": null,
   "id": "e45ed5d3-f337-4941-993b-0b33ed5d4f01",
   "metadata": {},
   "outputs": [],
   "source": []
  }
 ],
 "metadata": {
  "kernelspec": {
   "display_name": "Python 3 (ipykernel)",
   "language": "python",
   "name": "python3"
  },
  "language_info": {
   "codemirror_mode": {
    "name": "ipython",
    "version": 3
   },
   "file_extension": ".py",
   "mimetype": "text/x-python",
   "name": "python",
   "nbconvert_exporter": "python",
   "pygments_lexer": "ipython3",
   "version": "3.7.3"
  }
 },
 "nbformat": 4,
 "nbformat_minor": 5
}
