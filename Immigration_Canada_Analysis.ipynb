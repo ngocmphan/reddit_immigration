{
 "cells": [
  {
   "cell_type": "markdown",
   "id": "eee4b9f7",
   "metadata": {},
   "source": [
    "# Analysis of Immigration Canada Subreddit"
   ]
  },
  {
   "cell_type": "markdown",
   "id": "66baba48",
   "metadata": {},
   "source": [
    "## Data Cleaning"
   ]
  },
  {
   "cell_type": "code",
   "execution_count": 3,
   "id": "371b5d01",
   "metadata": {},
   "outputs": [],
   "source": [
    "import pandas as pd\n",
    "import datetime as dt\n",
    "from datetime import datetime\n",
    "import seaborn as sns\n",
    "from ydata_profiling import ProfileReport\n",
    "from wordcloud import WordCloud\n",
    "from wordcloud import STOPWORDS\n",
    "import matplotlib.pyplot as plt\n"
   ]
  },
  {
   "cell_type": "markdown",
   "id": "5104d2f2",
   "metadata": {},
   "source": [
    "### Data Import"
   ]
  },
  {
   "cell_type": "code",
   "execution_count": 4,
   "id": "a90d2d81",
   "metadata": {},
   "outputs": [],
   "source": [
    "# Importing reddit data from csv\n",
    "df_all = pd.read_csv('reddit_all_posts.csv')\n",
    "df_mixed = pd.read_csv('reddit_mixed_posts.csv')\n",
    "df_top = pd.read_csv('reddit_top_posts.csv')"
   ]
  },
  {
   "cell_type": "markdown",
   "id": "b9a64885",
   "metadata": {},
   "source": [
    "### Duplicates"
   ]
  },
  {
   "cell_type": "code",
   "execution_count": null,
   "id": "67847b14",
   "metadata": {},
   "outputs": [],
   "source": []
  },
  {
   "cell_type": "code",
   "execution_count": null,
   "id": "99b5e4b3",
   "metadata": {},
   "outputs": [],
   "source": []
  },
  {
   "cell_type": "markdown",
   "id": "6ca1b15d",
   "metadata": {},
   "source": [
    "### Missing submission body"
   ]
  },
  {
   "cell_type": "code",
   "execution_count": null,
   "id": "5a33adb1",
   "metadata": {},
   "outputs": [],
   "source": []
  },
  {
   "cell_type": "code",
   "execution_count": null,
   "id": "b056e526",
   "metadata": {},
   "outputs": [],
   "source": []
  },
  {
   "cell_type": "markdown",
   "id": "c562ae6a",
   "metadata": {},
   "source": [
    "### Missing category & Other category"
   ]
  },
  {
   "cell_type": "code",
   "execution_count": 1,
   "id": "23463a12",
   "metadata": {},
   "outputs": [],
   "source": [
    "# Wordcloud application"
   ]
  },
  {
   "cell_type": "code",
   "execution_count": null,
   "id": "91734613",
   "metadata": {},
   "outputs": [],
   "source": []
  },
  {
   "cell_type": "markdown",
   "id": "9a64efaf",
   "metadata": {},
   "source": [
    "### Unsupported media"
   ]
  },
  {
   "cell_type": "code",
   "execution_count": null,
   "id": "66633a81",
   "metadata": {},
   "outputs": [],
   "source": []
  }
 ],
 "metadata": {
  "kernelspec": {
   "display_name": "Python 3 (ipykernel)",
   "language": "python",
   "name": "python3"
  },
  "language_info": {
   "codemirror_mode": {
    "name": "ipython",
    "version": 3
   },
   "file_extension": ".py",
   "mimetype": "text/x-python",
   "name": "python",
   "nbconvert_exporter": "python",
   "pygments_lexer": "ipython3",
   "version": "3.7.3"
  }
 },
 "nbformat": 4,
 "nbformat_minor": 5
}
