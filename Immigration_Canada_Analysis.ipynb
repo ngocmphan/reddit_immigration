{
 "cells": [
  {
   "cell_type": "markdown",
   "id": "eee4b9f7",
   "metadata": {},
   "source": [
    "# Analysis of Immigration Canada Subreddit"
   ]
  },
  {
   "cell_type": "markdown",
   "id": "66baba48",
   "metadata": {},
   "source": [
    "## Data Cleaning"
   ]
  },
  {
   "cell_type": "code",
   "execution_count": 1,
   "id": "886c6df9",
   "metadata": {},
   "outputs": [],
   "source": [
    "# Importing libraries\n",
    "import pandas as pd\n",
    "import datetime as dt\n",
    "from datetime import datetime\n",
    "import seaborn as sns\n",
    "from ydata_profiling import ProfileReport\n",
    "from wordcloud import WordCloud\n",
    "from wordcloud import STOPWORDS\n",
    "import matplotlib.pyplot as plt\n"
   ]
  },
  {
   "cell_type": "markdown",
   "id": "5104d2f2",
   "metadata": {},
   "source": [
    "### Data Import"
   ]
  },
  {
   "cell_type": "code",
   "execution_count": 42,
   "id": "a90d2d81",
   "metadata": {},
   "outputs": [],
   "source": [
    "# Importing reddit data from csv\n",
    "df_all = pd.read_csv('reddit_all_posts.csv')\n",
    "df_mixed = pd.read_csv('reddit_mixed_posts.csv')\n",
    "df_top = pd.read_csv('reddit_top_posts.csv')\n",
    "\n",
    "# Ensuring 'selftext' column or submission body type string\n",
    "df_all['selftext'] = df_all['selftext'].astype(str)\n",
    "df_mixed['selftext'] = df_mixed['selftext'].astype(str)\n",
    "df_top['selftext'] = df_top['selftext'].astype(str)"
   ]
  },
  {
   "cell_type": "markdown",
   "id": "e864a576",
   "metadata": {},
   "source": [
    "### Missing body submission"
   ]
  },
  {
   "cell_type": "code",
   "execution_count": 58,
   "id": "846be3f9",
   "metadata": {},
   "outputs": [],
   "source": [
    "# Identify the columns with duplicate submission or missing submission body\n",
    "boolean = df_all.duplicated(subset=['selftext'])"
   ]
  },
  {
   "cell_type": "code",
   "execution_count": 59,
   "id": "4ae2656b",
   "metadata": {},
   "outputs": [
    {
     "data": {
      "text/plain": [
       "14                                                     nan\n",
       "15                                                     nan\n",
       "25                                                     nan\n",
       "31                                                     nan\n",
       "35                                                     nan\n",
       "                               ...                        \n",
       "62563    Hi all, I hope you are doing great. So ill exp...\n",
       "62564                                            [removed]\n",
       "62565    Hi all, I hope you are doing great. So ill exp...\n",
       "62566                                            [removed]\n",
       "62567                                            [removed]\n",
       "Name: selftext, Length: 61972, dtype: object"
      ]
     },
     "execution_count": 59,
     "metadata": {},
     "output_type": "execute_result"
    }
   ],
   "source": [
    "df_all[boolean]['selftext']"
   ]
  },
  {
   "cell_type": "code",
   "execution_count": 60,
   "id": "69085c7b",
   "metadata": {},
   "outputs": [
    {
     "data": {
      "text/plain": [
       "Unnamed: 0         21327\n",
       "Year               21327\n",
       "selftext           21327\n",
       "author             21327\n",
       "author_fullname    16951\n",
       "title              21327\n",
       "link_flair_text    17885\n",
       "ups                  373\n",
       "num_comments       21327\n",
       "id                 21327\n",
       "media_embed        21327\n",
       "created_utc        21327\n",
       "upvote_ratio       20634\n",
       "dtype: int64"
      ]
     },
     "execution_count": 60,
     "metadata": {},
     "output_type": "execute_result"
    }
   ],
   "source": [
    "# Identify the number of submission body removed\n",
    "df_all[df_all['selftext'] == '[removed]'].count()"
   ]
  },
  {
   "cell_type": "code",
   "execution_count": 62,
   "id": "83f10676",
   "metadata": {},
   "outputs": [
    {
     "data": {
      "text/html": [
       "<div>\n",
       "<style scoped>\n",
       "    .dataframe tbody tr th:only-of-type {\n",
       "        vertical-align: middle;\n",
       "    }\n",
       "\n",
       "    .dataframe tbody tr th {\n",
       "        vertical-align: top;\n",
       "    }\n",
       "\n",
       "    .dataframe thead th {\n",
       "        text-align: right;\n",
       "    }\n",
       "</style>\n",
       "<table border=\"1\" class=\"dataframe\">\n",
       "  <thead>\n",
       "    <tr style=\"text-align: right;\">\n",
       "      <th></th>\n",
       "      <th>Unnamed: 0</th>\n",
       "      <th>Year</th>\n",
       "      <th>selftext</th>\n",
       "      <th>author</th>\n",
       "      <th>author_fullname</th>\n",
       "      <th>title</th>\n",
       "      <th>link_flair_text</th>\n",
       "      <th>ups</th>\n",
       "      <th>num_comments</th>\n",
       "      <th>id</th>\n",
       "      <th>media_embed</th>\n",
       "      <th>created_utc</th>\n",
       "      <th>upvote_ratio</th>\n",
       "    </tr>\n",
       "  </thead>\n",
       "  <tbody>\n",
       "    <tr>\n",
       "      <th>321</th>\n",
       "      <td>321</td>\n",
       "      <td>2015</td>\n",
       "      <td>[removed]</td>\n",
       "      <td>immigrationxiphias</td>\n",
       "      <td>NaN</td>\n",
       "      <td>Migrate to Canada</td>\n",
       "      <td>NaN</td>\n",
       "      <td>1.0</td>\n",
       "      <td>0</td>\n",
       "      <td>3yncn5</td>\n",
       "      <td>{}</td>\n",
       "      <td>2015-12-29 12:10:57</td>\n",
       "      <td>NaN</td>\n",
       "    </tr>\n",
       "    <tr>\n",
       "      <th>328</th>\n",
       "      <td>328</td>\n",
       "      <td>2015</td>\n",
       "      <td>[removed]</td>\n",
       "      <td>immigrationxiphias</td>\n",
       "      <td>NaN</td>\n",
       "      <td>Canada Immigration Services Calgary</td>\n",
       "      <td>NaN</td>\n",
       "      <td>1.0</td>\n",
       "      <td>0</td>\n",
       "      <td>3y9xlv</td>\n",
       "      <td>{}</td>\n",
       "      <td>2015-12-26 10:48:03</td>\n",
       "      <td>NaN</td>\n",
       "    </tr>\n",
       "    <tr>\n",
       "      <th>329</th>\n",
       "      <td>329</td>\n",
       "      <td>2015</td>\n",
       "      <td>[removed]</td>\n",
       "      <td>[deleted]</td>\n",
       "      <td>NaN</td>\n",
       "      <td>Canada Immigration Services Calgary</td>\n",
       "      <td>NaN</td>\n",
       "      <td>1.0</td>\n",
       "      <td>0</td>\n",
       "      <td>3y9wxe</td>\n",
       "      <td>{}</td>\n",
       "      <td>2015-12-26 10:37:57</td>\n",
       "      <td>NaN</td>\n",
       "    </tr>\n",
       "    <tr>\n",
       "      <th>340</th>\n",
       "      <td>340</td>\n",
       "      <td>2015</td>\n",
       "      <td>[removed]</td>\n",
       "      <td>immigrationxiphias</td>\n",
       "      <td>NaN</td>\n",
       "      <td>XIPHIAS IMMIGRATION REVIEWS - CUSTOMER REVIEWS</td>\n",
       "      <td>NaN</td>\n",
       "      <td>1.0</td>\n",
       "      <td>0</td>\n",
       "      <td>3xxptx</td>\n",
       "      <td>{}</td>\n",
       "      <td>2015-12-23 06:58:44</td>\n",
       "      <td>NaN</td>\n",
       "    </tr>\n",
       "    <tr>\n",
       "      <th>362</th>\n",
       "      <td>362</td>\n",
       "      <td>2015</td>\n",
       "      <td>[removed]</td>\n",
       "      <td>ghimmigration</td>\n",
       "      <td>NaN</td>\n",
       "      <td>Golden Hands Immigration Inc. GH Immigration Inc.</td>\n",
       "      <td>NaN</td>\n",
       "      <td>0.0</td>\n",
       "      <td>0</td>\n",
       "      <td>3x1rxa</td>\n",
       "      <td>{}</td>\n",
       "      <td>2015-12-16 06:27:00</td>\n",
       "      <td>NaN</td>\n",
       "    </tr>\n",
       "  </tbody>\n",
       "</table>\n",
       "</div>"
      ],
      "text/plain": [
       "     Unnamed: 0  Year   selftext              author author_fullname  \\\n",
       "321         321  2015  [removed]  immigrationxiphias             NaN   \n",
       "328         328  2015  [removed]  immigrationxiphias             NaN   \n",
       "329         329  2015  [removed]           [deleted]             NaN   \n",
       "340         340  2015  [removed]  immigrationxiphias             NaN   \n",
       "362         362  2015  [removed]       ghimmigration             NaN   \n",
       "\n",
       "                                                 title link_flair_text  ups  \\\n",
       "321                                  Migrate to Canada             NaN  1.0   \n",
       "328                Canada Immigration Services Calgary             NaN  1.0   \n",
       "329                Canada Immigration Services Calgary             NaN  1.0   \n",
       "340     XIPHIAS IMMIGRATION REVIEWS - CUSTOMER REVIEWS             NaN  1.0   \n",
       "362  Golden Hands Immigration Inc. GH Immigration Inc.             NaN  0.0   \n",
       "\n",
       "     num_comments      id media_embed          created_utc  upvote_ratio  \n",
       "321             0  3yncn5          {}  2015-12-29 12:10:57           NaN  \n",
       "328             0  3y9xlv          {}  2015-12-26 10:48:03           NaN  \n",
       "329             0  3y9wxe          {}  2015-12-26 10:37:57           NaN  \n",
       "340             0  3xxptx          {}  2015-12-23 06:58:44           NaN  \n",
       "362             0  3x1rxa          {}  2015-12-16 06:27:00           NaN  "
      ]
     },
     "execution_count": 62,
     "metadata": {},
     "output_type": "execute_result"
    }
   ],
   "source": [
    "# View submissions with submission body removed to identify if these records should be removed\n",
    "df_all[df_all['selftext'] == '[removed]'].head()"
   ]
  },
  {
   "cell_type": "code",
   "execution_count": 65,
   "id": "d909db2f",
   "metadata": {},
   "outputs": [
    {
     "data": {
      "text/plain": [
       "Unnamed: 0         3084\n",
       "Year               3084\n",
       "selftext           3084\n",
       "author             3084\n",
       "author_fullname    2234\n",
       "title              3084\n",
       "link_flair_text    1864\n",
       "ups                 605\n",
       "num_comments       3084\n",
       "id                 3084\n",
       "media_embed        3084\n",
       "created_utc        3084\n",
       "upvote_ratio       1691\n",
       "dtype: int64"
      ]
     },
     "execution_count": 65,
     "metadata": {},
     "output_type": "execute_result"
    }
   ],
   "source": [
    "# Identify submissions with no submission body\n",
    "df_all[df_all['selftext'] =='nan'].count()"
   ]
  },
  {
   "cell_type": "code",
   "execution_count": 67,
   "id": "e69a67ee",
   "metadata": {},
   "outputs": [
    {
     "data": {
      "text/html": [
       "<div>\n",
       "<style scoped>\n",
       "    .dataframe tbody tr th:only-of-type {\n",
       "        vertical-align: middle;\n",
       "    }\n",
       "\n",
       "    .dataframe tbody tr th {\n",
       "        vertical-align: top;\n",
       "    }\n",
       "\n",
       "    .dataframe thead th {\n",
       "        text-align: right;\n",
       "    }\n",
       "</style>\n",
       "<table border=\"1\" class=\"dataframe\">\n",
       "  <thead>\n",
       "    <tr style=\"text-align: right;\">\n",
       "      <th></th>\n",
       "      <th>Unnamed: 0</th>\n",
       "      <th>Year</th>\n",
       "      <th>selftext</th>\n",
       "      <th>author</th>\n",
       "      <th>author_fullname</th>\n",
       "      <th>title</th>\n",
       "      <th>link_flair_text</th>\n",
       "      <th>ups</th>\n",
       "      <th>num_comments</th>\n",
       "      <th>id</th>\n",
       "      <th>media_embed</th>\n",
       "      <th>created_utc</th>\n",
       "      <th>upvote_ratio</th>\n",
       "    </tr>\n",
       "  </thead>\n",
       "  <tbody>\n",
       "    <tr>\n",
       "      <th>9</th>\n",
       "      <td>9</td>\n",
       "      <td>2013</td>\n",
       "      <td>nan</td>\n",
       "      <td>CramBoom</td>\n",
       "      <td>NaN</td>\n",
       "      <td>So you think you're Canadian? - Game-show to t...</td>\n",
       "      <td>NaN</td>\n",
       "      <td>1.0</td>\n",
       "      <td>0</td>\n",
       "      <td>1pbs0y</td>\n",
       "      <td>{'width': 600, 'height': 450, 'content': '&amp;lt;...</td>\n",
       "      <td>2013-10-27 18:31:22</td>\n",
       "      <td>NaN</td>\n",
       "    </tr>\n",
       "    <tr>\n",
       "      <th>14</th>\n",
       "      <td>14</td>\n",
       "      <td>2013</td>\n",
       "      <td>nan</td>\n",
       "      <td>ranger28</td>\n",
       "      <td>NaN</td>\n",
       "      <td>Canadian Immigration | live and work in Canada...</td>\n",
       "      <td>NaN</td>\n",
       "      <td>0.0</td>\n",
       "      <td>0</td>\n",
       "      <td>1md4wi</td>\n",
       "      <td>{}</td>\n",
       "      <td>2013-09-14 06:22:35</td>\n",
       "      <td>NaN</td>\n",
       "    </tr>\n",
       "    <tr>\n",
       "      <th>15</th>\n",
       "      <td>15</td>\n",
       "      <td>2013</td>\n",
       "      <td>nan</td>\n",
       "      <td>[deleted]</td>\n",
       "      <td>NaN</td>\n",
       "      <td>Canada’s new immigration program welcomes firs...</td>\n",
       "      <td>NaN</td>\n",
       "      <td>1.0</td>\n",
       "      <td>0</td>\n",
       "      <td>1kknpp</td>\n",
       "      <td>{}</td>\n",
       "      <td>2013-08-17 22:32:50</td>\n",
       "      <td>NaN</td>\n",
       "    </tr>\n",
       "    <tr>\n",
       "      <th>25</th>\n",
       "      <td>25</td>\n",
       "      <td>2013</td>\n",
       "      <td>nan</td>\n",
       "      <td>ninjah778</td>\n",
       "      <td>NaN</td>\n",
       "      <td>Immigration tips for students/visitors - getti...</td>\n",
       "      <td>NaN</td>\n",
       "      <td>1.0</td>\n",
       "      <td>0</td>\n",
       "      <td>1bflor</td>\n",
       "      <td>{}</td>\n",
       "      <td>2013-04-01 17:31:55</td>\n",
       "      <td>NaN</td>\n",
       "    </tr>\n",
       "    <tr>\n",
       "      <th>31</th>\n",
       "      <td>31</td>\n",
       "      <td>2013</td>\n",
       "      <td>nan</td>\n",
       "      <td>[deleted]</td>\n",
       "      <td>NaN</td>\n",
       "      <td>At the moment. All posts seem to be hitting th...</td>\n",
       "      <td>NaN</td>\n",
       "      <td>4.0</td>\n",
       "      <td>4</td>\n",
       "      <td>189fty</td>\n",
       "      <td>{}</td>\n",
       "      <td>2013-02-10 20:05:51</td>\n",
       "      <td>NaN</td>\n",
       "    </tr>\n",
       "  </tbody>\n",
       "</table>\n",
       "</div>"
      ],
      "text/plain": [
       "    Unnamed: 0  Year selftext     author author_fullname  \\\n",
       "9            9  2013      nan   CramBoom             NaN   \n",
       "14          14  2013      nan   ranger28             NaN   \n",
       "15          15  2013      nan  [deleted]             NaN   \n",
       "25          25  2013      nan  ninjah778             NaN   \n",
       "31          31  2013      nan  [deleted]             NaN   \n",
       "\n",
       "                                                title link_flair_text  ups  \\\n",
       "9   So you think you're Canadian? - Game-show to t...             NaN  1.0   \n",
       "14  Canadian Immigration | live and work in Canada...             NaN  0.0   \n",
       "15  Canada’s new immigration program welcomes firs...             NaN  1.0   \n",
       "25  Immigration tips for students/visitors - getti...             NaN  1.0   \n",
       "31  At the moment. All posts seem to be hitting th...             NaN  4.0   \n",
       "\n",
       "    num_comments      id                                        media_embed  \\\n",
       "9              0  1pbs0y  {'width': 600, 'height': 450, 'content': '&lt;...   \n",
       "14             0  1md4wi                                                 {}   \n",
       "15             0  1kknpp                                                 {}   \n",
       "25             0  1bflor                                                 {}   \n",
       "31             4  189fty                                                 {}   \n",
       "\n",
       "            created_utc  upvote_ratio  \n",
       "9   2013-10-27 18:31:22           NaN  \n",
       "14  2013-09-14 06:22:35           NaN  \n",
       "15  2013-08-17 22:32:50           NaN  \n",
       "25  2013-04-01 17:31:55           NaN  \n",
       "31  2013-02-10 20:05:51           NaN  "
      ]
     },
     "execution_count": 67,
     "metadata": {},
     "output_type": "execute_result"
    }
   ],
   "source": [
    "# View submissions with no submission body to identify if these records should be kept\n",
    "df_all[df_all['selftext'] == 'nan'].head(5)"
   ]
  },
  {
   "cell_type": "markdown",
   "id": "269f34ff",
   "metadata": {},
   "source": [
    "### Duplicates"
   ]
  },
  {
   "cell_type": "code",
   "execution_count": null,
   "id": "6d12db18",
   "metadata": {},
   "outputs": [],
   "source": []
  },
  {
   "cell_type": "code",
   "execution_count": null,
   "id": "e3a9e599",
   "metadata": {},
   "outputs": [],
   "source": []
  },
  {
   "cell_type": "code",
   "execution_count": null,
   "id": "319ac60a",
   "metadata": {},
   "outputs": [],
   "source": []
  },
  {
   "cell_type": "markdown",
   "id": "181279c8",
   "metadata": {},
   "source": [
    "### Missing category & Other category"
   ]
  },
  {
   "cell_type": "code",
   "execution_count": 1,
   "id": "79ae1beb",
   "metadata": {},
   "outputs": [],
   "source": [
    "# Wordcloud application"
   ]
  },
  {
   "cell_type": "code",
   "execution_count": null,
   "id": "5d1d2357",
   "metadata": {},
   "outputs": [],
   "source": []
  },
  {
   "cell_type": "markdown",
   "id": "b0102c4a",
   "metadata": {},
   "source": [
    "### Unsupported media"
   ]
  },
  {
   "cell_type": "code",
   "execution_count": null,
   "id": "941a1aff",
   "metadata": {},
   "outputs": [],
   "source": []
  }
 ],
 "metadata": {
  "kernelspec": {
   "display_name": "Python 3 (ipykernel)",
   "language": "python",
   "name": "python3"
  },
  "language_info": {
   "codemirror_mode": {
    "name": "ipython",
    "version": 3
   },
   "file_extension": ".py",
   "mimetype": "text/x-python",
   "name": "python",
   "nbconvert_exporter": "python",
   "pygments_lexer": "ipython3",
   "version": "3.7.3"
  }
 },
 "nbformat": 4,
 "nbformat_minor": 5
}
