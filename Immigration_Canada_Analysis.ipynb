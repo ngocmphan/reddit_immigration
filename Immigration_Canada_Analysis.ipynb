{
 "cells": [
  {
   "cell_type": "markdown",
   "id": "eee4b9f7",
   "metadata": {},
   "source": [
    "# Analysis of Immigration Canada Subreddit"
   ]
  },
  {
   "cell_type": "markdown",
   "id": "66baba48",
   "metadata": {},
   "source": [
    "## Data Cleaning"
   ]
  },
  {
   "cell_type": "code",
   "execution_count": 3,
   "id": "63d5eea3",
   "metadata": {},
   "outputs": [],
   "source": [
    "import pandas as pd\n",
    "import datetime as dt\n",
    "from datetime import datetime\n",
    "import seaborn as sns\n",
    "from ydata_profiling import ProfileReport\n",
    "from wordcloud import WordCloud\n",
    "from wordcloud import STOPWORDS\n",
    "import matplotlib.pyplot as plt\n"
   ]
  },
  {
   "cell_type": "markdown",
   "id": "5104d2f2",
   "metadata": {},
   "source": [
    "### Data Import"
   ]
  },
  {
   "cell_type": "code",
   "execution_count": 4,
   "id": "a90d2d81",
   "metadata": {},
   "outputs": [],
   "source": [
    "# Importing reddit data from csv\n",
    "df_all = pd.read_csv('reddit_all_posts.csv')\n",
    "df_mixed = pd.read_csv('reddit_mixed_posts.csv')\n",
    "df_top = pd.read_csv('reddit_top_posts.csv')"
   ]
  },
  {
   "cell_type": "code",
   "execution_count": null,
   "id": "36479c8d",
   "metadata": {},
   "outputs": [],
   "source": []
  },
  {
   "cell_type": "markdown",
   "id": "5a90b86d",
   "metadata": {},
   "source": [
    "### Duplicates"
   ]
  },
  {
   "cell_type": "code",
   "execution_count": null,
   "id": "d622f61b",
   "metadata": {},
   "outputs": [],
   "source": []
  },
  {
   "cell_type": "code",
   "execution_count": null,
   "id": "9e58ca9f",
   "metadata": {},
   "outputs": [],
   "source": []
  },
  {
   "cell_type": "markdown",
   "id": "e4600d4f",
   "metadata": {},
   "source": [
    "### Missing submission body"
   ]
  },
  {
   "cell_type": "code",
   "execution_count": null,
   "id": "dbe72903",
   "metadata": {},
   "outputs": [],
   "source": []
  },
  {
   "cell_type": "code",
   "execution_count": null,
   "id": "af540238",
   "metadata": {},
   "outputs": [],
   "source": []
  },
  {
   "cell_type": "markdown",
   "id": "a065ae01",
   "metadata": {},
   "source": [
    "### Missing category & Other category"
   ]
  },
  {
   "cell_type": "code",
   "execution_count": 1,
   "id": "2acbd083",
   "metadata": {},
   "outputs": [],
   "source": [
    "# Wordcloud application"
   ]
  },
  {
   "cell_type": "code",
   "execution_count": null,
   "id": "c9e6655b",
   "metadata": {},
   "outputs": [],
   "source": []
  },
  {
   "cell_type": "markdown",
   "id": "f403cd00",
   "metadata": {},
   "source": [
    "### Unsupported media"
   ]
  },
  {
   "cell_type": "code",
   "execution_count": null,
   "id": "155226c3",
   "metadata": {},
   "outputs": [],
   "source": []
  }
 ],
 "metadata": {
  "kernelspec": {
   "display_name": "Python 3 (ipykernel)",
   "language": "python",
   "name": "python3"
  },
  "language_info": {
   "codemirror_mode": {
    "name": "ipython",
    "version": 3
   },
   "file_extension": ".py",
   "mimetype": "text/x-python",
   "name": "python",
   "nbconvert_exporter": "python",
   "pygments_lexer": "ipython3",
   "version": "3.7.3"
  }
 },
 "nbformat": 4,
 "nbformat_minor": 5
}
